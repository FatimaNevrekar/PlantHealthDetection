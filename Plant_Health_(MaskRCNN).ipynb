{
 "cells": [
  {
   "cell_type": "markdown",
   "metadata": {
    "id": "4OJrsrFoCnEM"
   },
   "source": [
    "# **Mask RCNN**"
   ]
  },
  {
   "cell_type": "markdown",
   "metadata": {
    "id": "t5RF9U7WzaGf"
   },
   "source": [
    "## **Importing Modules**"
   ]
  },
  {
   "cell_type": "code",
   "execution_count": null,
   "metadata": {
    "colab": {
     "base_uri": "https://localhost:8080/"
    },
    "id": "WB6fEPE1vQuR",
    "outputId": "ef721223-028d-4a0e-f2bd-f194185476c3"
   },
   "outputs": [],
   "source": [
    "import warnings\n",
    "warnings.filterwarnings('ignore')\n",
    "import os\n",
    "import sys\n",
    "import json\n",
    "import datetime\n",
    "import numpy as np\n",
    "import skimage.draw\n",
    "import matplotlib.pyplot as plt\n",
    "import matplotlib.image as mpimg\n",
    "\n",
    "from mrcnn import visualize\n",
    "from mrcnn.model import log\n",
    "from mrcnn.config import Config\n",
    "from mrcnn import model as modellib, utils\n",
    "from IPython.display import clear_output\n"
   ]
  },
  {
   "cell_type": "code",
   "execution_count": 1,
   "metadata": {},
   "outputs": [],
   "source": [
    "import os\n",
    "import sys\n",
    "import json\n",
    "import datetime\n",
    "import numpy as np\n",
    "import skimage.draw\n",
    "import matplotlib.pyplot as plt\n",
    "import matplotlib.image as mpimg\n",
    "\n",
    "# Mask R-CNN and utility imports\n",
    "from mrcnn import visualize\n",
    "from mrcnn.model import log\n",
    "from mrcnn.config import Config\n",
    "from mrcnn import model as modellib, utils\n",
    "from IPython.display import clear_output\n",
    "\n",
    "# Import your custom dataset class\n",
    "from CustomDataset import CustomDataset\n"
   ]
  },
  {
   "cell_type": "markdown",
   "metadata": {
    "id": "903f_eEd5E-y"
   },
   "source": [
    "## **Loading dataset & Model configuration**"
   ]
  },
  {
   "cell_type": "code",
   "execution_count": 2,
   "metadata": {
    "id": "f17xdRNz5M33"
   },
   "outputs": [
    {
     "name": "stdout",
     "output_type": "stream",
     "text": [
      "DATASET_DIR: /Users/fatimanevrekar/Desktop/Plant_Health_Detection/Plant_Health_MaskRCNN/Dataset\n",
      "DEFAULT_LOGS_DIR: /Users/fatimanevrekar/Desktop/Plant_Health_Detection/Plant_Health_MaskRCNN/logs\n"
     ]
    }
   ],
   "source": [
    "# Root directory of the project\n",
    "ROOT_DIR = os.getcwd()\n",
    "DATASET_DIR = os.path.join(ROOT_DIR,\"Dataset\")\n",
    "print(\"DATASET_DIR:\",DATASET_DIR)\n",
    "\n",
    "\n",
    "sys.path.append(ROOT_DIR)\n",
    "\n",
    "# Path to trained weights file\n",
    "COCO_WEIGHTS_PATH = os.path.join(ROOT_DIR,\"mask_rcnn_coco.h5\")\n",
    "if not os.path.exists(COCO_WEIGHTS_PATH):\n",
    "    utils.download_trained_weights(COCO_WEIGHTS_PATH)\n",
    "\n",
    "# Directory to save logs and model checkpoints\n",
    "DEFAULT_LOGS_DIR = os.path.join(ROOT_DIR,\"logs\")\n",
    "print(\"DEFAULT_LOGS_DIR:\",DEFAULT_LOGS_DIR)"
   ]
  },
  {
   "cell_type": "code",
   "execution_count": null,
   "metadata": {},
   "outputs": [],
   "source": [
    "import h5py\n",
    "\n",
    "# Path to trained weights file\n",
    "COCO_WEIGHTS_PATH = os.path.join(ROOT_DIR, \"mask_rcnn_coco.h5\")\n",
    "print(\"COCO_WEIGHTS_PATH:\", COCO_WEIGHTS_PATH)\n",
    "\n",
    "# Check if the COCO weights file exists, if not download it\n",
    "if not os.path.exists(COCO_WEIGHTS_PATH):\n",
    "    print(\"COCO weights not found, downloading...\")\n",
    "    utils.download_trained_weights(COCO_WEIGHTS_PATH)\n",
    "else:\n",
    "    print(\"COCO weights found.\")\n",
    "\n",
    "# Now check if the file is indeed an HDF5 file\n",
    "try:\n",
    "    with h5py.File(COCO_WEIGHTS_PATH, 'r') as file:\n",
    "        print(f\"Successfully opened {COCO_WEIGHTS_PATH} with h5py.\")\n",
    "except IOError as e:\n",
    "    print(f\"Cannot open {COCO_WEIGHTS_PATH} with h5py. Error: {e}\")\n",
    "    print(\"Attempting to re-download the COCO weights.\")\n",
    "    os.remove(COCO_WEIGHTS_PATH)  # Remove the corrupt file\n",
    "    utils.download_trained_weights(COCO_WEIGHTS_PATH)\n"
   ]
  },
  {
   "cell_type": "code",
   "execution_count": 3,
   "metadata": {},
   "outputs": [],
   "source": [
    "from mrcnn.config import Config\n",
    "\n",
    "class CustomConfig(Config):\n",
    "    \"\"\"Configuration for training on your custom dataset.\n",
    "    Derives from the base Config class and overrides values specific to your dataset.\n",
    "    \"\"\"\n",
    "    # Give the configuration a recognizable name\n",
    "    NAME = \"custom_object_detection\"\n",
    "\n",
    "    # Number of classes (including background)\n",
    "    NUM_CLASSES = 1 + 6  # Background + your number of classes\n",
    "\n",
    "    # Number of training and validation steps per epoch\n",
    "    STEPS_PER_EPOCH = 100\n",
    "    VALIDATION_STEPS = 50\n",
    "\n",
    "    # Other configurations can be modified according to your requirements like\n",
    "    # GPU_COUNT, IMAGES_PER_GPU, LEARNING_RATE, etc.\n"
   ]
  },
  {
   "cell_type": "code",
   "execution_count": null,
   "metadata": {
    "id": "JUPg7gUs-I5L"
   },
   "outputs": [],
   "source": [
    "class CustomConfig(Config):\n",
    "    NAME = \"object\"\n",
    "\n",
    "    # Processing no of images based on GPU configuration\n",
    "    IMAGES_PER_GPU = 4\n",
    "\n",
    "    # Number of classes (including background)\n",
    "    NUM_CLASSES = 1 + 6\n",
    "\n",
    "    # Number of training steps per epoch\n",
    "    STEPS_PER_EPOCH = 102\n",
    "    \n",
    "    # Number of validation steps per epoch\n",
    "    VALIDATION_STEPS = 25\n",
    "    \n",
    "    USE_MINI_MASK = False\n",
    "    \n",
    "    TRAIN_ROIS_PER_IMAGE = 128\n",
    "    print(\"TRAIN_ROIS_PER_IMAGE:\",TRAIN_ROIS_PER_IMAGE)\n",
    "\n",
    "    \n",
    "    MASK_SHAPE = [28, 28]\n",
    "    \n",
    "class CustomDataset(utils.Dataset):\n",
    "\n",
    "    def load_custom(self, dataset_dir, subset):\n",
    "        print(\"dataset_dir:\",dataset_dir)\n",
    "\n",
    "        # Adding classes\n",
    "        self.add_class(\"object\", 1, \"Potato_Early_Blight\")\n",
    "        self.add_class(\"object\", 2, \"Potato_Healthy\")\n",
    "        self.add_class(\"object\", 3, \"Potato_Late_Blight\")\n",
    "        self.add_class(\"object\", 4, \"Tomato_Healthy\")\n",
    "        self.add_class(\"object\", 5, \"Tomato_Leaf_Mold\")\n",
    "        self.add_class(\"object\", 6, \"Tomato_Leaf_Spot\")\n",
    "\n",
    "        # Setting up dataset path\n",
    "        assert subset in [\"train\", \"val\"]\n",
    "        dataset_dir = os.path.join(dataset_dir, subset)\n",
    "        print(\"dataset_dir:\",dataset_dir)\n",
    "\n",
    "\n",
    "        # Loading JSON file\n",
    "        annotations1 = json.load(open(os.path.join(dataset_dir, 'annotations.json')))\n",
    "        print(\"annotations1:\",annotations1)\n",
    "\n",
    "        annotations = list(annotations1.values())\n",
    "        print(\"annotations1:\",annotations)\n",
    "\n",
    "\n",
    "        # Getting images with annotations\n",
    "        annotations = [a for a in annotations if a['regions']]\n",
    "\n",
    "        # Getting x and y coordinates of polygon (regions)\n",
    "        for a in annotations:\n",
    "            polygons = [r['shape_attributes'] for r in a['regions']]\n",
    "            objects = [s['region_attributes']['names'] for s in a['regions']]\n",
    "            print(\"objects:\",objects)\n",
    "            name_dict = {\"Potato_Early_Blight\": 1,\"Potato_Healthy\": 2,\"Potato_Late_Blight\": 3,\n",
    "                         \"Tomato_Healthy\": 4,\"Tomato_Leaf_Mold\": 5,\"Tomato_Leaf_Spot\": 6}\n",
    "\n",
    "            num_ids = [name_dict[a] for a in objects]\n",
    "\n",
    "            print(\"numids\",num_ids)\n",
    "            image_path = os.path.join(dataset_dir, a['filename'])\n",
    "            image = skimage.io.imread(image_path)\n",
    "            height, width = image.shape[:2]\n",
    "\n",
    "            self.add_image(\n",
    "                \"object\",\n",
    "                image_id=a['filename'],\n",
    "                path=image_path,\n",
    "                width=width, height=height,\n",
    "                polygons=polygons,\n",
    "                num_ids=num_ids\n",
    "                )\n",
    "\n",
    "    # Generating instance masks for an image\n",
    "    def load_mask(self, image_id):\n",
    "\n",
    "        image_info = self.image_info[image_id]\n",
    "        if image_info[\"source\"] != \"object\":\n",
    "            return super(self.__class__, self).load_mask(image_id)\n",
    "\n",
    "        # Convert polygons to a bitmap mask of shape\n",
    "        # [height, width, instance_count]\n",
    "        info = self.image_info[image_id]\n",
    "        if info[\"source\"] != \"object\":\n",
    "            return super(self.__class__, self).load_mask(image_id)\n",
    "        num_ids = info['num_ids']\n",
    "        mask = np.zeros([info[\"height\"], info[\"width\"], len(info[\"polygons\"])],\n",
    "                        dtype=np.uint8)\n",
    "        for i, p in enumerate(info[\"polygons\"]):\n",
    "            # Getting indexes of pixels inside the polygon and set them to 1\n",
    "        \trr, cc = skimage.draw.polygon(p['all_points_y'], p['all_points_x'])\n",
    "\n",
    "        \tmask[rr, cc, i] = 1\n",
    "\n",
    "        # Return mask, and array of class IDs of each instance. Map class names to class IDs.\n",
    "        num_ids = np.array(num_ids, dtype=np.int32)\n",
    "        return mask, num_ids\n",
    "\n",
    "    def image_reference(self, image_id):\n",
    "        \"\"\"Return the path of the image.\"\"\"\n",
    "        info = self.image_info[image_id]\n",
    "        if info[\"source\"] == \"object\":\n",
    "            return info[\"path\"]\n",
    "        else:\n",
    "            super(self.__class__, self).image_reference(image_id)"
   ]
  },
  {
   "cell_type": "code",
   "execution_count": null,
   "metadata": {},
   "outputs": [],
   "source": []
  },
  {
   "cell_type": "code",
   "execution_count": null,
   "metadata": {},
   "outputs": [],
   "source": [
    "# Root directory of the project\n",
    "ROOT_DIR = os.getcwd()\n",
    "DATASET_DIR = os.path.join(ROOT_DIR, \"Dataset\")\n",
    "DEFAULT_LOGS_DIR = os.path.join(ROOT_DIR, \"logs\")\n",
    "COCO_WEIGHTS_PATH = os.path.join(ROOT_DIR, \"mask_rcnn_coco.h5\")"
   ]
  },
  {
   "cell_type": "code",
   "execution_count": 7,
   "metadata": {},
   "outputs": [],
   "source": [
    "# Configuration for the model\n",
    "config = CustomConfig()"
   ]
  },
  {
   "cell_type": "code",
   "execution_count": 8,
   "metadata": {},
   "outputs": [],
   "source": [
    "# Create the model in training mode\n",
    "model = modellib.MaskRCNN(mode=\"training\", config=config, model_dir=DEFAULT_LOGS_DIR)\n"
   ]
  },
  {
   "cell_type": "code",
   "execution_count": 11,
   "metadata": {},
   "outputs": [],
   "source": [
    "# Load weights trained on MS COCO, but exclude the last layers because\n",
    "# the number of classes is different from COCO's 80 classes\n",
    "model.load_weights(COCO_WEIGHTS_PATH, by_name=True, exclude=[\n",
    "    \"mrcnn_class_logits\", \"mrcnn_bbox_fc\", \n",
    "    \"mrcnn_bbox\", \"mrcnn_mask\"])\n",
    "clear_output()\n"
   ]
  },
  {
   "cell_type": "code",
   "execution_count": 13,
   "metadata": {},
   "outputs": [
    {
     "name": "stdout",
     "output_type": "stream",
     "text": [
      "dataset_dir: /Users/fatimanevrekar/Desktop/Plant_Health_Detection/Plant_Health_MaskRCNN/Dataset\n",
      "dataset_dir: /Users/fatimanevrekar/Desktop/Plant_Health_Detection/Plant_Health_MaskRCNN/Dataset\n"
     ]
    }
   ],
   "source": [
    "# Load training and validation datasets\n",
    "dataset_train = CustomDataset()\n",
    "dataset_train.load_custom(DATASET_DIR, \"train\")\n",
    "dataset_train.prepare()\n",
    "\n",
    "dataset_val = CustomDataset()\n",
    "dataset_val.load_custom(DATASET_DIR, \"val\")\n",
    "dataset_val.prepare()"
   ]
  },
  {
   "cell_type": "code",
   "execution_count": null,
   "metadata": {},
   "outputs": [
    {
     "name": "stdout",
     "output_type": "stream",
     "text": [
      "Generating layer regex ...\n",
      "Generating train data ...\n",
      "Generating val data ...\n",
      "Creating callbacks ...\n",
      "Adding custom callbacks ...\n",
      "Setting params ...\n",
      "\n",
      "Starting at epoch 0. LR=0.001\n",
      "\n",
      "Checkpoint Path: /Users/fatimanevrekar/Desktop/Plant_Health_Detection/Plant_Health_MaskRCNN/logs/custom_object_detection20231118T1307/mask_rcnn_custom_object_detection_{epoch:04d}.h5\n",
      "Selecting layers to train\n",
      "conv1                  (Conv2D)\n",
      "bn_conv1               (BatchNorm)\n",
      "res2a_branch2a         (Conv2D)\n",
      "bn2a_branch2a          (BatchNorm)\n",
      "res2a_branch2b         (Conv2D)\n",
      "bn2a_branch2b          (BatchNorm)\n",
      "res2a_branch2c         (Conv2D)\n",
      "res2a_branch1          (Conv2D)\n",
      "bn2a_branch2c          (BatchNorm)\n",
      "bn2a_branch1           (BatchNorm)\n",
      "res2b_branch2a         (Conv2D)\n",
      "bn2b_branch2a          (BatchNorm)\n",
      "res2b_branch2b         (Conv2D)\n",
      "bn2b_branch2b          (BatchNorm)\n",
      "res2b_branch2c         (Conv2D)\n",
      "bn2b_branch2c          (BatchNorm)\n",
      "res2c_branch2a         (Conv2D)\n",
      "bn2c_branch2a          (BatchNorm)\n",
      "res2c_branch2b         (Conv2D)\n",
      "bn2c_branch2b          (BatchNorm)\n",
      "res2c_branch2c         (Conv2D)\n",
      "bn2c_branch2c          (BatchNorm)\n",
      "res3a_branch2a         (Conv2D)\n",
      "bn3a_branch2a          (BatchNorm)\n",
      "res3a_branch2b         (Conv2D)\n",
      "bn3a_branch2b          (BatchNorm)\n",
      "res3a_branch2c         (Conv2D)\n",
      "res3a_branch1          (Conv2D)\n",
      "bn3a_branch2c          (BatchNorm)\n",
      "bn3a_branch1           (BatchNorm)\n",
      "res3b_branch2a         (Conv2D)\n",
      "bn3b_branch2a          (BatchNorm)\n",
      "res3b_branch2b         (Conv2D)\n",
      "bn3b_branch2b          (BatchNorm)\n",
      "res3b_branch2c         (Conv2D)\n",
      "bn3b_branch2c          (BatchNorm)\n",
      "res3c_branch2a         (Conv2D)\n",
      "bn3c_branch2a          (BatchNorm)\n",
      "res3c_branch2b         (Conv2D)\n",
      "bn3c_branch2b          (BatchNorm)\n",
      "res3c_branch2c         (Conv2D)\n",
      "bn3c_branch2c          (BatchNorm)\n",
      "res3d_branch2a         (Conv2D)\n",
      "bn3d_branch2a          (BatchNorm)\n",
      "res3d_branch2b         (Conv2D)\n",
      "bn3d_branch2b          (BatchNorm)\n",
      "res3d_branch2c         (Conv2D)\n",
      "bn3d_branch2c          (BatchNorm)\n",
      "res4a_branch2a         (Conv2D)\n",
      "bn4a_branch2a          (BatchNorm)\n",
      "res4a_branch2b         (Conv2D)\n",
      "bn4a_branch2b          (BatchNorm)\n",
      "res4a_branch2c         (Conv2D)\n",
      "res4a_branch1          (Conv2D)\n",
      "bn4a_branch2c          (BatchNorm)\n",
      "bn4a_branch1           (BatchNorm)\n",
      "res4b_branch2a         (Conv2D)\n",
      "bn4b_branch2a          (BatchNorm)\n",
      "res4b_branch2b         (Conv2D)\n",
      "bn4b_branch2b          (BatchNorm)\n",
      "res4b_branch2c         (Conv2D)\n",
      "bn4b_branch2c          (BatchNorm)\n",
      "res4c_branch2a         (Conv2D)\n",
      "bn4c_branch2a          (BatchNorm)\n",
      "res4c_branch2b         (Conv2D)\n",
      "bn4c_branch2b          (BatchNorm)\n",
      "res4c_branch2c         (Conv2D)\n",
      "bn4c_branch2c          (BatchNorm)\n",
      "res4d_branch2a         (Conv2D)\n",
      "bn4d_branch2a          (BatchNorm)\n",
      "res4d_branch2b         (Conv2D)\n",
      "bn4d_branch2b          (BatchNorm)\n",
      "res4d_branch2c         (Conv2D)\n",
      "bn4d_branch2c          (BatchNorm)\n",
      "res4e_branch2a         (Conv2D)\n",
      "bn4e_branch2a          (BatchNorm)\n",
      "res4e_branch2b         (Conv2D)\n",
      "bn4e_branch2b          (BatchNorm)\n",
      "res4e_branch2c         (Conv2D)\n",
      "bn4e_branch2c          (BatchNorm)\n",
      "res4f_branch2a         (Conv2D)\n",
      "bn4f_branch2a          (BatchNorm)\n",
      "res4f_branch2b         (Conv2D)\n",
      "bn4f_branch2b          (BatchNorm)\n",
      "res4f_branch2c         (Conv2D)\n",
      "bn4f_branch2c          (BatchNorm)\n",
      "res4g_branch2a         (Conv2D)\n",
      "bn4g_branch2a          (BatchNorm)\n",
      "res4g_branch2b         (Conv2D)\n",
      "bn4g_branch2b          (BatchNorm)\n",
      "res4g_branch2c         (Conv2D)\n",
      "bn4g_branch2c          (BatchNorm)\n",
      "res4h_branch2a         (Conv2D)\n",
      "bn4h_branch2a          (BatchNorm)\n",
      "res4h_branch2b         (Conv2D)\n",
      "bn4h_branch2b          (BatchNorm)\n",
      "res4h_branch2c         (Conv2D)\n",
      "bn4h_branch2c          (BatchNorm)\n",
      "res4i_branch2a         (Conv2D)\n",
      "bn4i_branch2a          (BatchNorm)\n",
      "res4i_branch2b         (Conv2D)\n",
      "bn4i_branch2b          (BatchNorm)\n",
      "res4i_branch2c         (Conv2D)\n",
      "bn4i_branch2c          (BatchNorm)\n",
      "res4j_branch2a         (Conv2D)\n",
      "bn4j_branch2a          (BatchNorm)\n",
      "res4j_branch2b         (Conv2D)\n",
      "bn4j_branch2b          (BatchNorm)\n",
      "res4j_branch2c         (Conv2D)\n",
      "bn4j_branch2c          (BatchNorm)\n",
      "res4k_branch2a         (Conv2D)\n",
      "bn4k_branch2a          (BatchNorm)\n",
      "res4k_branch2b         (Conv2D)\n",
      "bn4k_branch2b          (BatchNorm)\n",
      "res4k_branch2c         (Conv2D)\n",
      "bn4k_branch2c          (BatchNorm)\n",
      "res4l_branch2a         (Conv2D)\n",
      "bn4l_branch2a          (BatchNorm)\n",
      "res4l_branch2b         (Conv2D)\n",
      "bn4l_branch2b          (BatchNorm)\n",
      "res4l_branch2c         (Conv2D)\n",
      "bn4l_branch2c          (BatchNorm)\n",
      "res4m_branch2a         (Conv2D)\n",
      "bn4m_branch2a          (BatchNorm)\n",
      "res4m_branch2b         (Conv2D)\n",
      "bn4m_branch2b          (BatchNorm)\n",
      "res4m_branch2c         (Conv2D)\n",
      "bn4m_branch2c          (BatchNorm)\n",
      "res4n_branch2a         (Conv2D)\n",
      "bn4n_branch2a          (BatchNorm)\n",
      "res4n_branch2b         (Conv2D)\n",
      "bn4n_branch2b          (BatchNorm)\n",
      "res4n_branch2c         (Conv2D)\n",
      "bn4n_branch2c          (BatchNorm)\n",
      "res4o_branch2a         (Conv2D)\n",
      "bn4o_branch2a          (BatchNorm)\n",
      "res4o_branch2b         (Conv2D)\n",
      "bn4o_branch2b          (BatchNorm)\n",
      "res4o_branch2c         (Conv2D)\n",
      "bn4o_branch2c          (BatchNorm)\n",
      "res4p_branch2a         (Conv2D)\n",
      "bn4p_branch2a          (BatchNorm)\n",
      "res4p_branch2b         (Conv2D)\n",
      "bn4p_branch2b          (BatchNorm)\n",
      "res4p_branch2c         (Conv2D)\n",
      "bn4p_branch2c          (BatchNorm)\n",
      "res4q_branch2a         (Conv2D)\n",
      "bn4q_branch2a          (BatchNorm)\n",
      "res4q_branch2b         (Conv2D)\n",
      "bn4q_branch2b          (BatchNorm)\n",
      "res4q_branch2c         (Conv2D)\n",
      "bn4q_branch2c          (BatchNorm)\n",
      "res4r_branch2a         (Conv2D)\n",
      "bn4r_branch2a          (BatchNorm)\n",
      "res4r_branch2b         (Conv2D)\n",
      "bn4r_branch2b          (BatchNorm)\n",
      "res4r_branch2c         (Conv2D)\n",
      "bn4r_branch2c          (BatchNorm)\n",
      "res4s_branch2a         (Conv2D)\n",
      "bn4s_branch2a          (BatchNorm)\n",
      "res4s_branch2b         (Conv2D)\n",
      "bn4s_branch2b          (BatchNorm)\n",
      "res4s_branch2c         (Conv2D)\n",
      "bn4s_branch2c          (BatchNorm)\n",
      "res4t_branch2a         (Conv2D)\n",
      "bn4t_branch2a          (BatchNorm)\n",
      "res4t_branch2b         (Conv2D)\n",
      "bn4t_branch2b          (BatchNorm)\n",
      "res4t_branch2c         (Conv2D)\n",
      "bn4t_branch2c          (BatchNorm)\n",
      "res4u_branch2a         (Conv2D)\n",
      "bn4u_branch2a          (BatchNorm)\n",
      "res4u_branch2b         (Conv2D)\n",
      "bn4u_branch2b          (BatchNorm)\n",
      "res4u_branch2c         (Conv2D)\n",
      "bn4u_branch2c          (BatchNorm)\n",
      "res4v_branch2a         (Conv2D)\n",
      "bn4v_branch2a          (BatchNorm)\n",
      "res4v_branch2b         (Conv2D)\n",
      "bn4v_branch2b          (BatchNorm)\n",
      "res4v_branch2c         (Conv2D)\n",
      "bn4v_branch2c          (BatchNorm)\n",
      "res4w_branch2a         (Conv2D)\n",
      "bn4w_branch2a          (BatchNorm)\n",
      "res4w_branch2b         (Conv2D)\n",
      "bn4w_branch2b          (BatchNorm)\n",
      "res4w_branch2c         (Conv2D)\n",
      "bn4w_branch2c          (BatchNorm)\n",
      "res5a_branch2a         (Conv2D)\n",
      "bn5a_branch2a          (BatchNorm)\n",
      "res5a_branch2b         (Conv2D)\n",
      "bn5a_branch2b          (BatchNorm)\n",
      "res5a_branch2c         (Conv2D)\n",
      "res5a_branch1          (Conv2D)\n",
      "bn5a_branch2c          (BatchNorm)\n",
      "bn5a_branch1           (BatchNorm)\n",
      "res5b_branch2a         (Conv2D)\n",
      "bn5b_branch2a          (BatchNorm)\n",
      "res5b_branch2b         (Conv2D)\n",
      "bn5b_branch2b          (BatchNorm)\n",
      "res5b_branch2c         (Conv2D)\n",
      "bn5b_branch2c          (BatchNorm)\n",
      "res5c_branch2a         (Conv2D)\n",
      "bn5c_branch2a          (BatchNorm)\n",
      "res5c_branch2b         (Conv2D)\n",
      "bn5c_branch2b          (BatchNorm)\n",
      "res5c_branch2c         (Conv2D)\n",
      "bn5c_branch2c          (BatchNorm)\n",
      "fpn_c5p5               (Conv2D)\n",
      "fpn_c4p4               (Conv2D)\n",
      "fpn_c3p3               (Conv2D)\n",
      "fpn_c2p2               (Conv2D)\n",
      "fpn_p5                 (Conv2D)\n",
      "fpn_p2                 (Conv2D)\n",
      "fpn_p3                 (Conv2D)\n",
      "fpn_p4                 (Conv2D)\n",
      "rpn_model              (Functional)\n",
      "anchors                (ConstLayer)\n",
      "mrcnn_mask_conv1       (TimeDistributed)\n",
      "mrcnn_mask_bn1         (TimeDistributed)\n",
      "mrcnn_mask_conv2       (TimeDistributed)\n",
      "mrcnn_mask_bn2         (TimeDistributed)\n",
      "mrcnn_class_conv1      (TimeDistributed)\n",
      "mrcnn_class_bn1        (TimeDistributed)\n",
      "mrcnn_mask_conv3       (TimeDistributed)\n",
      "mrcnn_mask_bn3         (TimeDistributed)\n",
      "mrcnn_class_conv2      (TimeDistributed)\n",
      "mrcnn_class_bn2        (TimeDistributed)\n",
      "mrcnn_mask_conv4       (TimeDistributed)\n",
      "mrcnn_mask_bn4         (TimeDistributed)\n",
      "mrcnn_bbox_fc          (TimeDistributed)\n",
      "mrcnn_mask_deconv      (TimeDistributed)\n",
      "mrcnn_class_logits     (TimeDistributed)\n",
      "mrcnn_mask             (TimeDistributed)\n"
     ]
    },
    {
     "name": "stderr",
     "output_type": "stream",
     "text": [
      "/Users/fatimanevrekar/anaconda3/envs/fan7402venv/lib/python3.8/site-packages/keras/src/optimizers/legacy/gradient_descent.py:114: UserWarning: The `lr` argument is deprecated, use `learning_rate` instead.\n",
      "  super().__init__(name, **kwargs)\n",
      "2023-11-18 13:08:44.157479: W tensorflow/c/c_api.cc:304] Operation '{name:'res4s_branch2a/bias/Assign' id:4127 op device:{requested: '', assigned: ''} def:{{{node res4s_branch2a/bias/Assign}} = AssignVariableOp[_has_manual_control_dependencies=true, dtype=DT_FLOAT, validate_shape=false](res4s_branch2a/bias, res4s_branch2a/bias/Initializer/zeros)}}' was changed by setting attribute after it was run by a session. This mutation will have no effect, and will trigger an error in the future. Either don't modify nodes after running them or create a new session.\n",
      "2023-11-18 13:08:46.644630: W tensorflow/c/c_api.cc:304] Operation '{name:'range' id:19033 op device:{requested: '', assigned: ''} def:{{{node range}} = Range[Tidx=DT_INT32, _has_manual_control_dependencies=true](range/start, Rank, range/delta)}}' was changed by setting attribute after it was run by a session. This mutation will have no effect, and will trigger an error in the future. Either don't modify nodes after running them or create a new session.\n",
      "2023-11-18 13:08:47.034721: W tensorflow/c/c_api.cc:304] Operation '{name:'range_1' id:20426 op device:{requested: '', assigned: ''} def:{{{node range_1}} = Range[Tidx=DT_INT32, _has_manual_control_dependencies=true](range_1/start, Rank_1, range_1/delta)}}' was changed by setting attribute after it was run by a session. This mutation will have no effect, and will trigger an error in the future. Either don't modify nodes after running them or create a new session.\n",
      "2023-11-18 13:08:47.404990: W tensorflow/c/c_api.cc:304] Operation '{name:'range_2' id:20436 op device:{requested: '', assigned: ''} def:{{{node range_2}} = Range[Tidx=DT_INT32, _has_manual_control_dependencies=true](range_2/start, Rank_2, range_2/delta)}}' was changed by setting attribute after it was run by a session. This mutation will have no effect, and will trigger an error in the future. Either don't modify nodes after running them or create a new session.\n",
      "2023-11-18 13:08:47.801121: W tensorflow/c/c_api.cc:304] Operation '{name:'range_3' id:20446 op device:{requested: '', assigned: ''} def:{{{node range_3}} = Range[Tidx=DT_INT32, _has_manual_control_dependencies=true](range_3/start, Rank_3, range_3/delta)}}' was changed by setting attribute after it was run by a session. This mutation will have no effect, and will trigger an error in the future. Either don't modify nodes after running them or create a new session.\n",
      "2023-11-18 13:08:48.123716: W tensorflow/c/c_api.cc:304] Operation '{name:'range_4' id:20456 op device:{requested: '', assigned: ''} def:{{{node range_4}} = Range[Tidx=DT_INT32, _has_manual_control_dependencies=true](range_4/start, Rank_4, range_4/delta)}}' was changed by setting attribute after it was run by a session. This mutation will have no effect, and will trigger an error in the future. Either don't modify nodes after running them or create a new session.\n",
      "2023-11-18 13:08:48.653940: W tensorflow/c/c_api.cc:304] Operation '{name:'truediv_1' id:20478 op device:{requested: '', assigned: ''} def:{{{node truediv_1}} = RealDiv[T=DT_FLOAT, _has_manual_control_dependencies=true](mul_6, Cast_1)}}' was changed by setting attribute after it was run by a session. This mutation will have no effect, and will trigger an error in the future. Either don't modify nodes after running them or create a new session.\n",
      "2023-11-18 13:08:48.815528: W tensorflow/c/c_api.cc:304] Operation '{name:'truediv_2' id:20486 op device:{requested: '', assigned: ''} def:{{{node truediv_2}} = RealDiv[T=DT_FLOAT, _has_manual_control_dependencies=true](mul_7, Cast_2)}}' was changed by setting attribute after it was run by a session. This mutation will have no effect, and will trigger an error in the future. Either don't modify nodes after running them or create a new session.\n",
      "2023-11-18 13:08:48.981444: W tensorflow/c/c_api.cc:304] Operation '{name:'truediv_3' id:20494 op device:{requested: '', assigned: ''} def:{{{node truediv_3}} = RealDiv[T=DT_FLOAT, _has_manual_control_dependencies=true](mul_8, Cast_3)}}' was changed by setting attribute after it was run by a session. This mutation will have no effect, and will trigger an error in the future. Either don't modify nodes after running them or create a new session.\n",
      "2023-11-18 13:08:49.159080: W tensorflow/c/c_api.cc:304] Operation '{name:'truediv_4' id:20502 op device:{requested: '', assigned: ''} def:{{{node truediv_4}} = RealDiv[T=DT_FLOAT, _has_manual_control_dependencies=true](mul_9, Cast_4)}}' was changed by setting attribute after it was run by a session. This mutation will have no effect, and will trigger an error in the future. Either don't modify nodes after running them or create a new session.\n",
      "2023-11-18 13:08:49.327987: W tensorflow/c/c_api.cc:304] Operation '{name:'truediv_5' id:20510 op device:{requested: '', assigned: ''} def:{{{node truediv_5}} = RealDiv[T=DT_FLOAT, _has_manual_control_dependencies=true](mul_10, Cast_5)}}' was changed by setting attribute after it was run by a session. This mutation will have no effect, and will trigger an error in the future. Either don't modify nodes after running them or create a new session.\n",
      "2023-11-18 13:08:49.494343: W tensorflow/c/c_api.cc:304] Operation '{name:'truediv_6' id:20518 op device:{requested: '', assigned: ''} def:{{{node truediv_6}} = RealDiv[T=DT_FLOAT, _has_manual_control_dependencies=true](mul_11, Cast_6)}}' was changed by setting attribute after it was run by a session. This mutation will have no effect, and will trigger an error in the future. Either don't modify nodes after running them or create a new session.\n",
      "2023-11-18 13:08:49.668687: W tensorflow/c/c_api.cc:304] Operation '{name:'truediv_7' id:20526 op device:{requested: '', assigned: ''} def:{{{node truediv_7}} = RealDiv[T=DT_FLOAT, _has_manual_control_dependencies=true](mul_12, Cast_7)}}' was changed by setting attribute after it was run by a session. This mutation will have no effect, and will trigger an error in the future. Either don't modify nodes after running them or create a new session.\n",
      "2023-11-18 13:08:49.828748: W tensorflow/c/c_api.cc:304] Operation '{name:'truediv_8' id:20534 op device:{requested: '', assigned: ''} def:{{{node truediv_8}} = RealDiv[T=DT_FLOAT, _has_manual_control_dependencies=true](mul_13, Cast_8)}}' was changed by setting attribute after it was run by a session. This mutation will have no effect, and will trigger an error in the future. Either don't modify nodes after running them or create a new session.\n",
      "2023-11-18 13:08:49.999186: W tensorflow/c/c_api.cc:304] Operation '{name:'truediv_9' id:20542 op device:{requested: '', assigned: ''} def:{{{node truediv_9}} = RealDiv[T=DT_FLOAT, _has_manual_control_dependencies=true](mul_14, Cast_9)}}' was changed by setting attribute after it was run by a session. This mutation will have no effect, and will trigger an error in the future. Either don't modify nodes after running them or create a new session.\n",
      "2023-11-18 13:08:50.157431: W tensorflow/c/c_api.cc:304] Operation '{name:'truediv_10' id:20550 op device:{requested: '', assigned: ''} def:{{{node truediv_10}} = RealDiv[T=DT_FLOAT, _has_manual_control_dependencies=true](mul_15, Cast_10)}}' was changed by setting attribute after it was run by a session. This mutation will have no effect, and will trigger an error in the future. Either don't modify nodes after running them or create a new session.\n",
      "2023-11-18 13:08:50.320640: W tensorflow/c/c_api.cc:304] Operation '{name:'truediv_11' id:20558 op device:{requested: '', assigned: ''} def:{{{node truediv_11}} = RealDiv[T=DT_FLOAT, _has_manual_control_dependencies=true](mul_16, Cast_11)}}' was changed by setting attribute after it was run by a session. This mutation will have no effect, and will trigger an error in the future. Either don't modify nodes after running them or create a new session.\n",
      "2023-11-18 13:08:50.480144: W tensorflow/c/c_api.cc:304] Operation '{name:'truediv_12' id:20566 op device:{requested: '', assigned: ''} def:{{{node truediv_12}} = RealDiv[T=DT_FLOAT, _has_manual_control_dependencies=true](mul_17, Cast_12)}}' was changed by setting attribute after it was run by a session. This mutation will have no effect, and will trigger an error in the future. Either don't modify nodes after running them or create a new session.\n"
     ]
    },
    {
     "name": "stderr",
     "output_type": "stream",
     "text": [
      "2023-11-18 13:08:50.647884: W tensorflow/c/c_api.cc:304] Operation '{name:'truediv_13' id:20574 op device:{requested: '', assigned: ''} def:{{{node truediv_13}} = RealDiv[T=DT_FLOAT, _has_manual_control_dependencies=true](mul_18, Cast_13)}}' was changed by setting attribute after it was run by a session. This mutation will have no effect, and will trigger an error in the future. Either don't modify nodes after running them or create a new session.\n",
      "2023-11-18 13:08:50.807439: W tensorflow/c/c_api.cc:304] Operation '{name:'truediv_14' id:20582 op device:{requested: '', assigned: ''} def:{{{node truediv_14}} = RealDiv[T=DT_FLOAT, _has_manual_control_dependencies=true](mul_19, Cast_14)}}' was changed by setting attribute after it was run by a session. This mutation will have no effect, and will trigger an error in the future. Either don't modify nodes after running them or create a new session.\n",
      "2023-11-18 13:08:50.967798: W tensorflow/c/c_api.cc:304] Operation '{name:'truediv_15' id:20590 op device:{requested: '', assigned: ''} def:{{{node truediv_15}} = RealDiv[T=DT_FLOAT, _has_manual_control_dependencies=true](mul_20, Cast_15)}}' was changed by setting attribute after it was run by a session. This mutation will have no effect, and will trigger an error in the future. Either don't modify nodes after running them or create a new session.\n",
      "2023-11-18 13:08:51.132690: W tensorflow/c/c_api.cc:304] Operation '{name:'truediv_16' id:20598 op device:{requested: '', assigned: ''} def:{{{node truediv_16}} = RealDiv[T=DT_FLOAT, _has_manual_control_dependencies=true](mul_21, Cast_16)}}' was changed by setting attribute after it was run by a session. This mutation will have no effect, and will trigger an error in the future. Either don't modify nodes after running them or create a new session.\n",
      "2023-11-18 13:08:51.302593: W tensorflow/c/c_api.cc:304] Operation '{name:'truediv_17' id:20606 op device:{requested: '', assigned: ''} def:{{{node truediv_17}} = RealDiv[T=DT_FLOAT, _has_manual_control_dependencies=true](mul_22, Cast_17)}}' was changed by setting attribute after it was run by a session. This mutation will have no effect, and will trigger an error in the future. Either don't modify nodes after running them or create a new session.\n",
      "2023-11-18 13:08:51.463870: W tensorflow/c/c_api.cc:304] Operation '{name:'truediv_18' id:20614 op device:{requested: '', assigned: ''} def:{{{node truediv_18}} = RealDiv[T=DT_FLOAT, _has_manual_control_dependencies=true](mul_23, Cast_18)}}' was changed by setting attribute after it was run by a session. This mutation will have no effect, and will trigger an error in the future. Either don't modify nodes after running them or create a new session.\n",
      "2023-11-18 13:08:51.627484: W tensorflow/c/c_api.cc:304] Operation '{name:'truediv_19' id:20622 op device:{requested: '', assigned: ''} def:{{{node truediv_19}} = RealDiv[T=DT_FLOAT, _has_manual_control_dependencies=true](mul_24, Cast_19)}}' was changed by setting attribute after it was run by a session. This mutation will have no effect, and will trigger an error in the future. Either don't modify nodes after running them or create a new session.\n",
      "2023-11-18 13:08:51.785587: W tensorflow/c/c_api.cc:304] Operation '{name:'truediv_20' id:20630 op device:{requested: '', assigned: ''} def:{{{node truediv_20}} = RealDiv[T=DT_FLOAT, _has_manual_control_dependencies=true](mul_25, Cast_20)}}' was changed by setting attribute after it was run by a session. This mutation will have no effect, and will trigger an error in the future. Either don't modify nodes after running them or create a new session.\n",
      "2023-11-18 13:08:51.943069: W tensorflow/c/c_api.cc:304] Operation '{name:'truediv_21' id:20638 op device:{requested: '', assigned: ''} def:{{{node truediv_21}} = RealDiv[T=DT_FLOAT, _has_manual_control_dependencies=true](mul_26, Cast_21)}}' was changed by setting attribute after it was run by a session. This mutation will have no effect, and will trigger an error in the future. Either don't modify nodes after running them or create a new session.\n",
      "2023-11-18 13:08:52.099589: W tensorflow/c/c_api.cc:304] Operation '{name:'truediv_22' id:20646 op device:{requested: '', assigned: ''} def:{{{node truediv_22}} = RealDiv[T=DT_FLOAT, _has_manual_control_dependencies=true](mul_27, Cast_22)}}' was changed by setting attribute after it was run by a session. This mutation will have no effect, and will trigger an error in the future. Either don't modify nodes after running them or create a new session.\n",
      "2023-11-18 13:08:52.261210: W tensorflow/c/c_api.cc:304] Operation '{name:'truediv_23' id:20654 op device:{requested: '', assigned: ''} def:{{{node truediv_23}} = RealDiv[T=DT_FLOAT, _has_manual_control_dependencies=true](mul_28, Cast_23)}}' was changed by setting attribute after it was run by a session. This mutation will have no effect, and will trigger an error in the future. Either don't modify nodes after running them or create a new session.\n",
      "2023-11-18 13:08:52.424504: W tensorflow/c/c_api.cc:304] Operation '{name:'truediv_24' id:20662 op device:{requested: '', assigned: ''} def:{{{node truediv_24}} = RealDiv[T=DT_FLOAT, _has_manual_control_dependencies=true](mul_29, Cast_24)}}' was changed by setting attribute after it was run by a session. This mutation will have no effect, and will trigger an error in the future. Either don't modify nodes after running them or create a new session.\n",
      "2023-11-18 13:08:52.592561: W tensorflow/c/c_api.cc:304] Operation '{name:'truediv_25' id:20670 op device:{requested: '', assigned: ''} def:{{{node truediv_25}} = RealDiv[T=DT_FLOAT, _has_manual_control_dependencies=true](mul_30, Cast_25)}}' was changed by setting attribute after it was run by a session. This mutation will have no effect, and will trigger an error in the future. Either don't modify nodes after running them or create a new session.\n",
      "2023-11-18 13:08:52.749201: W tensorflow/c/c_api.cc:304] Operation '{name:'truediv_26' id:20678 op device:{requested: '', assigned: ''} def:{{{node truediv_26}} = RealDiv[T=DT_FLOAT, _has_manual_control_dependencies=true](mul_31, Cast_26)}}' was changed by setting attribute after it was run by a session. This mutation will have no effect, and will trigger an error in the future. Either don't modify nodes after running them or create a new session.\n",
      "2023-11-18 13:08:52.911563: W tensorflow/c/c_api.cc:304] Operation '{name:'truediv_27' id:20686 op device:{requested: '', assigned: ''} def:{{{node truediv_27}} = RealDiv[T=DT_FLOAT, _has_manual_control_dependencies=true](mul_32, Cast_27)}}' was changed by setting attribute after it was run by a session. This mutation will have no effect, and will trigger an error in the future. Either don't modify nodes after running them or create a new session.\n",
      "2023-11-18 13:08:53.071266: W tensorflow/c/c_api.cc:304] Operation '{name:'truediv_28' id:20694 op device:{requested: '', assigned: ''} def:{{{node truediv_28}} = RealDiv[T=DT_FLOAT, _has_manual_control_dependencies=true](mul_33, Cast_28)}}' was changed by setting attribute after it was run by a session. This mutation will have no effect, and will trigger an error in the future. Either don't modify nodes after running them or create a new session.\n",
      "2023-11-18 13:08:53.238780: W tensorflow/c/c_api.cc:304] Operation '{name:'truediv_29' id:20702 op device:{requested: '', assigned: ''} def:{{{node truediv_29}} = RealDiv[T=DT_FLOAT, _has_manual_control_dependencies=true](mul_34, Cast_29)}}' was changed by setting attribute after it was run by a session. This mutation will have no effect, and will trigger an error in the future. Either don't modify nodes after running them or create a new session.\n",
      "2023-11-18 13:08:53.407626: W tensorflow/c/c_api.cc:304] Operation '{name:'truediv_30' id:20710 op device:{requested: '', assigned: ''} def:{{{node truediv_30}} = RealDiv[T=DT_FLOAT, _has_manual_control_dependencies=true](mul_35, Cast_30)}}' was changed by setting attribute after it was run by a session. This mutation will have no effect, and will trigger an error in the future. Either don't modify nodes after running them or create a new session.\n",
      "2023-11-18 13:08:53.572483: W tensorflow/c/c_api.cc:304] Operation '{name:'truediv_31' id:20718 op device:{requested: '', assigned: ''} def:{{{node truediv_31}} = RealDiv[T=DT_FLOAT, _has_manual_control_dependencies=true](mul_36, Cast_31)}}' was changed by setting attribute after it was run by a session. This mutation will have no effect, and will trigger an error in the future. Either don't modify nodes after running them or create a new session.\n",
      "2023-11-18 13:08:53.732973: W tensorflow/c/c_api.cc:304] Operation '{name:'truediv_32' id:20726 op device:{requested: '', assigned: ''} def:{{{node truediv_32}} = RealDiv[T=DT_FLOAT, _has_manual_control_dependencies=true](mul_37, Cast_32)}}' was changed by setting attribute after it was run by a session. This mutation will have no effect, and will trigger an error in the future. Either don't modify nodes after running them or create a new session.\n"
     ]
    },
    {
     "name": "stderr",
     "output_type": "stream",
     "text": [
      "2023-11-18 13:08:53.892391: W tensorflow/c/c_api.cc:304] Operation '{name:'truediv_33' id:20734 op device:{requested: '', assigned: ''} def:{{{node truediv_33}} = RealDiv[T=DT_FLOAT, _has_manual_control_dependencies=true](mul_38, Cast_33)}}' was changed by setting attribute after it was run by a session. This mutation will have no effect, and will trigger an error in the future. Either don't modify nodes after running them or create a new session.\n",
      "2023-11-18 13:08:54.057284: W tensorflow/c/c_api.cc:304] Operation '{name:'truediv_34' id:20742 op device:{requested: '', assigned: ''} def:{{{node truediv_34}} = RealDiv[T=DT_FLOAT, _has_manual_control_dependencies=true](mul_39, Cast_34)}}' was changed by setting attribute after it was run by a session. This mutation will have no effect, and will trigger an error in the future. Either don't modify nodes after running them or create a new session.\n",
      "2023-11-18 13:08:54.217759: W tensorflow/c/c_api.cc:304] Operation '{name:'truediv_35' id:20750 op device:{requested: '', assigned: ''} def:{{{node truediv_35}} = RealDiv[T=DT_FLOAT, _has_manual_control_dependencies=true](mul_40, Cast_35)}}' was changed by setting attribute after it was run by a session. This mutation will have no effect, and will trigger an error in the future. Either don't modify nodes after running them or create a new session.\n",
      "2023-11-18 13:08:54.386341: W tensorflow/c/c_api.cc:304] Operation '{name:'truediv_36' id:20758 op device:{requested: '', assigned: ''} def:{{{node truediv_36}} = RealDiv[T=DT_FLOAT, _has_manual_control_dependencies=true](mul_41, Cast_36)}}' was changed by setting attribute after it was run by a session. This mutation will have no effect, and will trigger an error in the future. Either don't modify nodes after running them or create a new session.\n",
      "2023-11-18 13:08:54.549113: W tensorflow/c/c_api.cc:304] Operation '{name:'truediv_37' id:20766 op device:{requested: '', assigned: ''} def:{{{node truediv_37}} = RealDiv[T=DT_FLOAT, _has_manual_control_dependencies=true](mul_42, Cast_37)}}' was changed by setting attribute after it was run by a session. This mutation will have no effect, and will trigger an error in the future. Either don't modify nodes after running them or create a new session.\n",
      "2023-11-18 13:08:54.708643: W tensorflow/c/c_api.cc:304] Operation '{name:'truediv_38' id:20774 op device:{requested: '', assigned: ''} def:{{{node truediv_38}} = RealDiv[T=DT_FLOAT, _has_manual_control_dependencies=true](mul_43, Cast_38)}}' was changed by setting attribute after it was run by a session. This mutation will have no effect, and will trigger an error in the future. Either don't modify nodes after running them or create a new session.\n",
      "2023-11-18 13:08:54.868089: W tensorflow/c/c_api.cc:304] Operation '{name:'truediv_39' id:20782 op device:{requested: '', assigned: ''} def:{{{node truediv_39}} = RealDiv[T=DT_FLOAT, _has_manual_control_dependencies=true](mul_44, Cast_39)}}' was changed by setting attribute after it was run by a session. This mutation will have no effect, and will trigger an error in the future. Either don't modify nodes after running them or create a new session.\n",
      "2023-11-18 13:08:55.026141: W tensorflow/c/c_api.cc:304] Operation '{name:'truediv_40' id:20790 op device:{requested: '', assigned: ''} def:{{{node truediv_40}} = RealDiv[T=DT_FLOAT, _has_manual_control_dependencies=true](mul_45, Cast_40)}}' was changed by setting attribute after it was run by a session. This mutation will have no effect, and will trigger an error in the future. Either don't modify nodes after running them or create a new session.\n",
      "2023-11-18 13:08:55.183112: W tensorflow/c/c_api.cc:304] Operation '{name:'truediv_41' id:20798 op device:{requested: '', assigned: ''} def:{{{node truediv_41}} = RealDiv[T=DT_FLOAT, _has_manual_control_dependencies=true](mul_46, Cast_41)}}' was changed by setting attribute after it was run by a session. This mutation will have no effect, and will trigger an error in the future. Either don't modify nodes after running them or create a new session.\n",
      "2023-11-18 13:08:55.342669: W tensorflow/c/c_api.cc:304] Operation '{name:'truediv_42' id:20806 op device:{requested: '', assigned: ''} def:{{{node truediv_42}} = RealDiv[T=DT_FLOAT, _has_manual_control_dependencies=true](mul_47, Cast_42)}}' was changed by setting attribute after it was run by a session. This mutation will have no effect, and will trigger an error in the future. Either don't modify nodes after running them or create a new session.\n",
      "2023-11-18 13:08:55.505085: W tensorflow/c/c_api.cc:304] Operation '{name:'truediv_43' id:20814 op device:{requested: '', assigned: ''} def:{{{node truediv_43}} = RealDiv[T=DT_FLOAT, _has_manual_control_dependencies=true](mul_48, Cast_43)}}' was changed by setting attribute after it was run by a session. This mutation will have no effect, and will trigger an error in the future. Either don't modify nodes after running them or create a new session.\n",
      "2023-11-18 13:08:55.665221: W tensorflow/c/c_api.cc:304] Operation '{name:'truediv_44' id:20822 op device:{requested: '', assigned: ''} def:{{{node truediv_44}} = RealDiv[T=DT_FLOAT, _has_manual_control_dependencies=true](mul_49, Cast_44)}}' was changed by setting attribute after it was run by a session. This mutation will have no effect, and will trigger an error in the future. Either don't modify nodes after running them or create a new session.\n",
      "2023-11-18 13:08:55.830306: W tensorflow/c/c_api.cc:304] Operation '{name:'truediv_45' id:20830 op device:{requested: '', assigned: ''} def:{{{node truediv_45}} = RealDiv[T=DT_FLOAT, _has_manual_control_dependencies=true](mul_50, Cast_45)}}' was changed by setting attribute after it was run by a session. This mutation will have no effect, and will trigger an error in the future. Either don't modify nodes after running them or create a new session.\n",
      "2023-11-18 13:08:55.993318: W tensorflow/c/c_api.cc:304] Operation '{name:'truediv_46' id:20838 op device:{requested: '', assigned: ''} def:{{{node truediv_46}} = RealDiv[T=DT_FLOAT, _has_manual_control_dependencies=true](mul_51, Cast_46)}}' was changed by setting attribute after it was run by a session. This mutation will have no effect, and will trigger an error in the future. Either don't modify nodes after running them or create a new session.\n",
      "2023-11-18 13:08:56.157360: W tensorflow/c/c_api.cc:304] Operation '{name:'truediv_47' id:20846 op device:{requested: '', assigned: ''} def:{{{node truediv_47}} = RealDiv[T=DT_FLOAT, _has_manual_control_dependencies=true](mul_52, Cast_47)}}' was changed by setting attribute after it was run by a session. This mutation will have no effect, and will trigger an error in the future. Either don't modify nodes after running them or create a new session.\n",
      "2023-11-18 13:08:56.313118: W tensorflow/c/c_api.cc:304] Operation '{name:'truediv_48' id:20854 op device:{requested: '', assigned: ''} def:{{{node truediv_48}} = RealDiv[T=DT_FLOAT, _has_manual_control_dependencies=true](mul_53, Cast_48)}}' was changed by setting attribute after it was run by a session. This mutation will have no effect, and will trigger an error in the future. Either don't modify nodes after running them or create a new session.\n",
      "2023-11-18 13:08:56.475620: W tensorflow/c/c_api.cc:304] Operation '{name:'truediv_49' id:20862 op device:{requested: '', assigned: ''} def:{{{node truediv_49}} = RealDiv[T=DT_FLOAT, _has_manual_control_dependencies=true](mul_54, Cast_49)}}' was changed by setting attribute after it was run by a session. This mutation will have no effect, and will trigger an error in the future. Either don't modify nodes after running them or create a new session.\n",
      "2023-11-18 13:08:56.667276: W tensorflow/c/c_api.cc:304] Operation '{name:'truediv_50' id:20870 op device:{requested: '', assigned: ''} def:{{{node truediv_50}} = RealDiv[T=DT_FLOAT, _has_manual_control_dependencies=true](mul_55, Cast_50)}}' was changed by setting attribute after it was run by a session. This mutation will have no effect, and will trigger an error in the future. Either don't modify nodes after running them or create a new session.\n",
      "2023-11-18 13:08:56.859466: W tensorflow/c/c_api.cc:304] Operation '{name:'truediv_51' id:20878 op device:{requested: '', assigned: ''} def:{{{node truediv_51}} = RealDiv[T=DT_FLOAT, _has_manual_control_dependencies=true](mul_56, Cast_51)}}' was changed by setting attribute after it was run by a session. This mutation will have no effect, and will trigger an error in the future. Either don't modify nodes after running them or create a new session.\n",
      "2023-11-18 13:08:57.032972: W tensorflow/c/c_api.cc:304] Operation '{name:'truediv_52' id:20886 op device:{requested: '', assigned: ''} def:{{{node truediv_52}} = RealDiv[T=DT_FLOAT, _has_manual_control_dependencies=true](mul_57, Cast_52)}}' was changed by setting attribute after it was run by a session. This mutation will have no effect, and will trigger an error in the future. Either don't modify nodes after running them or create a new session.\n"
     ]
    },
    {
     "name": "stderr",
     "output_type": "stream",
     "text": [
      "2023-11-18 13:08:57.202387: W tensorflow/c/c_api.cc:304] Operation '{name:'truediv_53' id:20894 op device:{requested: '', assigned: ''} def:{{{node truediv_53}} = RealDiv[T=DT_FLOAT, _has_manual_control_dependencies=true](mul_58, Cast_53)}}' was changed by setting attribute after it was run by a session. This mutation will have no effect, and will trigger an error in the future. Either don't modify nodes after running them or create a new session.\n",
      "2023-11-18 13:08:57.371653: W tensorflow/c/c_api.cc:304] Operation '{name:'truediv_54' id:20902 op device:{requested: '', assigned: ''} def:{{{node truediv_54}} = RealDiv[T=DT_FLOAT, _has_manual_control_dependencies=true](mul_59, Cast_54)}}' was changed by setting attribute after it was run by a session. This mutation will have no effect, and will trigger an error in the future. Either don't modify nodes after running them or create a new session.\n",
      "2023-11-18 13:08:57.535430: W tensorflow/c/c_api.cc:304] Operation '{name:'truediv_55' id:20910 op device:{requested: '', assigned: ''} def:{{{node truediv_55}} = RealDiv[T=DT_FLOAT, _has_manual_control_dependencies=true](mul_60, Cast_55)}}' was changed by setting attribute after it was run by a session. This mutation will have no effect, and will trigger an error in the future. Either don't modify nodes after running them or create a new session.\n",
      "2023-11-18 13:08:57.705811: W tensorflow/c/c_api.cc:304] Operation '{name:'truediv_56' id:20918 op device:{requested: '', assigned: ''} def:{{{node truediv_56}} = RealDiv[T=DT_FLOAT, _has_manual_control_dependencies=true](mul_61, Cast_56)}}' was changed by setting attribute after it was run by a session. This mutation will have no effect, and will trigger an error in the future. Either don't modify nodes after running them or create a new session.\n",
      "2023-11-18 13:08:57.871328: W tensorflow/c/c_api.cc:304] Operation '{name:'truediv_57' id:20926 op device:{requested: '', assigned: ''} def:{{{node truediv_57}} = RealDiv[T=DT_FLOAT, _has_manual_control_dependencies=true](mul_62, Cast_57)}}' was changed by setting attribute after it was run by a session. This mutation will have no effect, and will trigger an error in the future. Either don't modify nodes after running them or create a new session.\n",
      "2023-11-18 13:08:58.051315: W tensorflow/c/c_api.cc:304] Operation '{name:'truediv_58' id:20934 op device:{requested: '', assigned: ''} def:{{{node truediv_58}} = RealDiv[T=DT_FLOAT, _has_manual_control_dependencies=true](mul_63, Cast_58)}}' was changed by setting attribute after it was run by a session. This mutation will have no effect, and will trigger an error in the future. Either don't modify nodes after running them or create a new session.\n",
      "2023-11-18 13:08:58.256262: W tensorflow/c/c_api.cc:304] Operation '{name:'truediv_59' id:20942 op device:{requested: '', assigned: ''} def:{{{node truediv_59}} = RealDiv[T=DT_FLOAT, _has_manual_control_dependencies=true](mul_64, Cast_59)}}' was changed by setting attribute after it was run by a session. This mutation will have no effect, and will trigger an error in the future. Either don't modify nodes after running them or create a new session.\n",
      "2023-11-18 13:08:58.436967: W tensorflow/c/c_api.cc:304] Operation '{name:'truediv_60' id:20950 op device:{requested: '', assigned: ''} def:{{{node truediv_60}} = RealDiv[T=DT_FLOAT, _has_manual_control_dependencies=true](mul_65, Cast_60)}}' was changed by setting attribute after it was run by a session. This mutation will have no effect, and will trigger an error in the future. Either don't modify nodes after running them or create a new session.\n",
      "2023-11-18 13:08:58.619413: W tensorflow/c/c_api.cc:304] Operation '{name:'truediv_61' id:20958 op device:{requested: '', assigned: ''} def:{{{node truediv_61}} = RealDiv[T=DT_FLOAT, _has_manual_control_dependencies=true](mul_66, Cast_61)}}' was changed by setting attribute after it was run by a session. This mutation will have no effect, and will trigger an error in the future. Either don't modify nodes after running them or create a new session.\n",
      "2023-11-18 13:08:58.806624: W tensorflow/c/c_api.cc:304] Operation '{name:'truediv_62' id:20966 op device:{requested: '', assigned: ''} def:{{{node truediv_62}} = RealDiv[T=DT_FLOAT, _has_manual_control_dependencies=true](mul_67, Cast_62)}}' was changed by setting attribute after it was run by a session. This mutation will have no effect, and will trigger an error in the future. Either don't modify nodes after running them or create a new session.\n",
      "2023-11-18 13:08:58.971837: W tensorflow/c/c_api.cc:304] Operation '{name:'truediv_63' id:20974 op device:{requested: '', assigned: ''} def:{{{node truediv_63}} = RealDiv[T=DT_FLOAT, _has_manual_control_dependencies=true](mul_68, Cast_63)}}' was changed by setting attribute after it was run by a session. This mutation will have no effect, and will trigger an error in the future. Either don't modify nodes after running them or create a new session.\n",
      "2023-11-18 13:08:59.139996: W tensorflow/c/c_api.cc:304] Operation '{name:'truediv_64' id:20982 op device:{requested: '', assigned: ''} def:{{{node truediv_64}} = RealDiv[T=DT_FLOAT, _has_manual_control_dependencies=true](mul_69, Cast_64)}}' was changed by setting attribute after it was run by a session. This mutation will have no effect, and will trigger an error in the future. Either don't modify nodes after running them or create a new session.\n",
      "2023-11-18 13:08:59.312085: W tensorflow/c/c_api.cc:304] Operation '{name:'truediv_65' id:20990 op device:{requested: '', assigned: ''} def:{{{node truediv_65}} = RealDiv[T=DT_FLOAT, _has_manual_control_dependencies=true](mul_70, Cast_65)}}' was changed by setting attribute after it was run by a session. This mutation will have no effect, and will trigger an error in the future. Either don't modify nodes after running them or create a new session.\n",
      "2023-11-18 13:08:59.476303: W tensorflow/c/c_api.cc:304] Operation '{name:'truediv_66' id:20998 op device:{requested: '', assigned: ''} def:{{{node truediv_66}} = RealDiv[T=DT_FLOAT, _has_manual_control_dependencies=true](mul_71, Cast_66)}}' was changed by setting attribute after it was run by a session. This mutation will have no effect, and will trigger an error in the future. Either don't modify nodes after running them or create a new session.\n",
      "2023-11-18 13:08:59.639377: W tensorflow/c/c_api.cc:304] Operation '{name:'truediv_67' id:21006 op device:{requested: '', assigned: ''} def:{{{node truediv_67}} = RealDiv[T=DT_FLOAT, _has_manual_control_dependencies=true](mul_72, Cast_67)}}' was changed by setting attribute after it was run by a session. This mutation will have no effect, and will trigger an error in the future. Either don't modify nodes after running them or create a new session.\n",
      "2023-11-18 13:08:59.803293: W tensorflow/c/c_api.cc:304] Operation '{name:'truediv_68' id:21014 op device:{requested: '', assigned: ''} def:{{{node truediv_68}} = RealDiv[T=DT_FLOAT, _has_manual_control_dependencies=true](mul_73, Cast_68)}}' was changed by setting attribute after it was run by a session. This mutation will have no effect, and will trigger an error in the future. Either don't modify nodes after running them or create a new session.\n",
      "2023-11-18 13:08:59.962049: W tensorflow/c/c_api.cc:304] Operation '{name:'truediv_69' id:21022 op device:{requested: '', assigned: ''} def:{{{node truediv_69}} = RealDiv[T=DT_FLOAT, _has_manual_control_dependencies=true](mul_74, Cast_69)}}' was changed by setting attribute after it was run by a session. This mutation will have no effect, and will trigger an error in the future. Either don't modify nodes after running them or create a new session.\n",
      "2023-11-18 13:09:00.128003: W tensorflow/c/c_api.cc:304] Operation '{name:'truediv_70' id:21030 op device:{requested: '', assigned: ''} def:{{{node truediv_70}} = RealDiv[T=DT_FLOAT, _has_manual_control_dependencies=true](mul_75, Cast_70)}}' was changed by setting attribute after it was run by a session. This mutation will have no effect, and will trigger an error in the future. Either don't modify nodes after running them or create a new session.\n",
      "2023-11-18 13:09:00.293339: W tensorflow/c/c_api.cc:304] Operation '{name:'truediv_71' id:21038 op device:{requested: '', assigned: ''} def:{{{node truediv_71}} = RealDiv[T=DT_FLOAT, _has_manual_control_dependencies=true](mul_76, Cast_71)}}' was changed by setting attribute after it was run by a session. This mutation will have no effect, and will trigger an error in the future. Either don't modify nodes after running them or create a new session.\n",
      "2023-11-18 13:09:00.451482: W tensorflow/c/c_api.cc:304] Operation '{name:'truediv_72' id:21046 op device:{requested: '', assigned: ''} def:{{{node truediv_72}} = RealDiv[T=DT_FLOAT, _has_manual_control_dependencies=true](mul_77, Cast_72)}}' was changed by setting attribute after it was run by a session. This mutation will have no effect, and will trigger an error in the future. Either don't modify nodes after running them or create a new session.\n"
     ]
    },
    {
     "name": "stderr",
     "output_type": "stream",
     "text": [
      "2023-11-18 13:09:00.622505: W tensorflow/c/c_api.cc:304] Operation '{name:'truediv_73' id:21054 op device:{requested: '', assigned: ''} def:{{{node truediv_73}} = RealDiv[T=DT_FLOAT, _has_manual_control_dependencies=true](mul_78, Cast_73)}}' was changed by setting attribute after it was run by a session. This mutation will have no effect, and will trigger an error in the future. Either don't modify nodes after running them or create a new session.\n",
      "2023-11-18 13:09:00.789808: W tensorflow/c/c_api.cc:304] Operation '{name:'truediv_74' id:21062 op device:{requested: '', assigned: ''} def:{{{node truediv_74}} = RealDiv[T=DT_FLOAT, _has_manual_control_dependencies=true](mul_79, Cast_74)}}' was changed by setting attribute after it was run by a session. This mutation will have no effect, and will trigger an error in the future. Either don't modify nodes after running them or create a new session.\n",
      "2023-11-18 13:09:00.950958: W tensorflow/c/c_api.cc:304] Operation '{name:'truediv_75' id:21070 op device:{requested: '', assigned: ''} def:{{{node truediv_75}} = RealDiv[T=DT_FLOAT, _has_manual_control_dependencies=true](mul_80, Cast_75)}}' was changed by setting attribute after it was run by a session. This mutation will have no effect, and will trigger an error in the future. Either don't modify nodes after running them or create a new session.\n",
      "2023-11-18 13:09:01.106013: W tensorflow/c/c_api.cc:304] Operation '{name:'truediv_76' id:21078 op device:{requested: '', assigned: ''} def:{{{node truediv_76}} = RealDiv[T=DT_FLOAT, _has_manual_control_dependencies=true](mul_81, Cast_76)}}' was changed by setting attribute after it was run by a session. This mutation will have no effect, and will trigger an error in the future. Either don't modify nodes after running them or create a new session.\n",
      "2023-11-18 13:09:01.274346: W tensorflow/c/c_api.cc:304] Operation '{name:'truediv_77' id:21086 op device:{requested: '', assigned: ''} def:{{{node truediv_77}} = RealDiv[T=DT_FLOAT, _has_manual_control_dependencies=true](mul_82, Cast_77)}}' was changed by setting attribute after it was run by a session. This mutation will have no effect, and will trigger an error in the future. Either don't modify nodes after running them or create a new session.\n",
      "2023-11-18 13:09:01.439309: W tensorflow/c/c_api.cc:304] Operation '{name:'truediv_78' id:21094 op device:{requested: '', assigned: ''} def:{{{node truediv_78}} = RealDiv[T=DT_FLOAT, _has_manual_control_dependencies=true](mul_83, Cast_78)}}' was changed by setting attribute after it was run by a session. This mutation will have no effect, and will trigger an error in the future. Either don't modify nodes after running them or create a new session.\n",
      "2023-11-18 13:09:01.600844: W tensorflow/c/c_api.cc:304] Operation '{name:'truediv_79' id:21102 op device:{requested: '', assigned: ''} def:{{{node truediv_79}} = RealDiv[T=DT_FLOAT, _has_manual_control_dependencies=true](mul_84, Cast_79)}}' was changed by setting attribute after it was run by a session. This mutation will have no effect, and will trigger an error in the future. Either don't modify nodes after running them or create a new session.\n",
      "2023-11-18 13:09:01.763574: W tensorflow/c/c_api.cc:304] Operation '{name:'truediv_80' id:21110 op device:{requested: '', assigned: ''} def:{{{node truediv_80}} = RealDiv[T=DT_FLOAT, _has_manual_control_dependencies=true](mul_85, Cast_80)}}' was changed by setting attribute after it was run by a session. This mutation will have no effect, and will trigger an error in the future. Either don't modify nodes after running them or create a new session.\n",
      "2023-11-18 13:09:01.929008: W tensorflow/c/c_api.cc:304] Operation '{name:'truediv_81' id:21118 op device:{requested: '', assigned: ''} def:{{{node truediv_81}} = RealDiv[T=DT_FLOAT, _has_manual_control_dependencies=true](mul_86, Cast_81)}}' was changed by setting attribute after it was run by a session. This mutation will have no effect, and will trigger an error in the future. Either don't modify nodes after running them or create a new session.\n",
      "2023-11-18 13:09:02.085654: W tensorflow/c/c_api.cc:304] Operation '{name:'truediv_82' id:21126 op device:{requested: '', assigned: ''} def:{{{node truediv_82}} = RealDiv[T=DT_FLOAT, _has_manual_control_dependencies=true](mul_87, Cast_82)}}' was changed by setting attribute after it was run by a session. This mutation will have no effect, and will trigger an error in the future. Either don't modify nodes after running them or create a new session.\n",
      "2023-11-18 13:09:02.251388: W tensorflow/c/c_api.cc:304] Operation '{name:'truediv_83' id:21134 op device:{requested: '', assigned: ''} def:{{{node truediv_83}} = RealDiv[T=DT_FLOAT, _has_manual_control_dependencies=true](mul_88, Cast_83)}}' was changed by setting attribute after it was run by a session. This mutation will have no effect, and will trigger an error in the future. Either don't modify nodes after running them or create a new session.\n",
      "2023-11-18 13:09:02.420184: W tensorflow/c/c_api.cc:304] Operation '{name:'truediv_84' id:21142 op device:{requested: '', assigned: ''} def:{{{node truediv_84}} = RealDiv[T=DT_FLOAT, _has_manual_control_dependencies=true](mul_89, Cast_84)}}' was changed by setting attribute after it was run by a session. This mutation will have no effect, and will trigger an error in the future. Either don't modify nodes after running them or create a new session.\n",
      "2023-11-18 13:09:02.594565: W tensorflow/c/c_api.cc:304] Operation '{name:'truediv_85' id:21150 op device:{requested: '', assigned: ''} def:{{{node truediv_85}} = RealDiv[T=DT_FLOAT, _has_manual_control_dependencies=true](mul_90, Cast_85)}}' was changed by setting attribute after it was run by a session. This mutation will have no effect, and will trigger an error in the future. Either don't modify nodes after running them or create a new session.\n",
      "2023-11-18 13:09:02.768248: W tensorflow/c/c_api.cc:304] Operation '{name:'truediv_86' id:21158 op device:{requested: '', assigned: ''} def:{{{node truediv_86}} = RealDiv[T=DT_FLOAT, _has_manual_control_dependencies=true](mul_91, Cast_86)}}' was changed by setting attribute after it was run by a session. This mutation will have no effect, and will trigger an error in the future. Either don't modify nodes after running them or create a new session.\n",
      "2023-11-18 13:09:02.940642: W tensorflow/c/c_api.cc:304] Operation '{name:'truediv_87' id:21166 op device:{requested: '', assigned: ''} def:{{{node truediv_87}} = RealDiv[T=DT_FLOAT, _has_manual_control_dependencies=true](mul_92, Cast_87)}}' was changed by setting attribute after it was run by a session. This mutation will have no effect, and will trigger an error in the future. Either don't modify nodes after running them or create a new session.\n",
      "2023-11-18 13:09:03.101590: W tensorflow/c/c_api.cc:304] Operation '{name:'truediv_88' id:21174 op device:{requested: '', assigned: ''} def:{{{node truediv_88}} = RealDiv[T=DT_FLOAT, _has_manual_control_dependencies=true](mul_93, Cast_88)}}' was changed by setting attribute after it was run by a session. This mutation will have no effect, and will trigger an error in the future. Either don't modify nodes after running them or create a new session.\n",
      "2023-11-18 13:09:03.284633: W tensorflow/c/c_api.cc:304] Operation '{name:'truediv_89' id:21182 op device:{requested: '', assigned: ''} def:{{{node truediv_89}} = RealDiv[T=DT_FLOAT, _has_manual_control_dependencies=true](mul_94, Cast_89)}}' was changed by setting attribute after it was run by a session. This mutation will have no effect, and will trigger an error in the future. Either don't modify nodes after running them or create a new session.\n",
      "2023-11-18 13:09:03.452449: W tensorflow/c/c_api.cc:304] Operation '{name:'truediv_90' id:21190 op device:{requested: '', assigned: ''} def:{{{node truediv_90}} = RealDiv[T=DT_FLOAT, _has_manual_control_dependencies=true](mul_95, Cast_90)}}' was changed by setting attribute after it was run by a session. This mutation will have no effect, and will trigger an error in the future. Either don't modify nodes after running them or create a new session.\n",
      "2023-11-18 13:09:03.618906: W tensorflow/c/c_api.cc:304] Operation '{name:'truediv_91' id:21198 op device:{requested: '', assigned: ''} def:{{{node truediv_91}} = RealDiv[T=DT_FLOAT, _has_manual_control_dependencies=true](mul_96, Cast_91)}}' was changed by setting attribute after it was run by a session. This mutation will have no effect, and will trigger an error in the future. Either don't modify nodes after running them or create a new session.\n",
      "2023-11-18 13:09:03.781627: W tensorflow/c/c_api.cc:304] Operation '{name:'truediv_92' id:21206 op device:{requested: '', assigned: ''} def:{{{node truediv_92}} = RealDiv[T=DT_FLOAT, _has_manual_control_dependencies=true](mul_97, Cast_92)}}' was changed by setting attribute after it was run by a session. This mutation will have no effect, and will trigger an error in the future. Either don't modify nodes after running them or create a new session.\n"
     ]
    },
    {
     "name": "stderr",
     "output_type": "stream",
     "text": [
      "2023-11-18 13:09:03.954202: W tensorflow/c/c_api.cc:304] Operation '{name:'truediv_93' id:21214 op device:{requested: '', assigned: ''} def:{{{node truediv_93}} = RealDiv[T=DT_FLOAT, _has_manual_control_dependencies=true](mul_98, Cast_93)}}' was changed by setting attribute after it was run by a session. This mutation will have no effect, and will trigger an error in the future. Either don't modify nodes after running them or create a new session.\n",
      "2023-11-18 13:09:04.108620: W tensorflow/c/c_api.cc:304] Operation '{name:'truediv_94' id:21222 op device:{requested: '', assigned: ''} def:{{{node truediv_94}} = RealDiv[T=DT_FLOAT, _has_manual_control_dependencies=true](mul_99, Cast_94)}}' was changed by setting attribute after it was run by a session. This mutation will have no effect, and will trigger an error in the future. Either don't modify nodes after running them or create a new session.\n",
      "2023-11-18 13:09:04.270360: W tensorflow/c/c_api.cc:304] Operation '{name:'truediv_95' id:21230 op device:{requested: '', assigned: ''} def:{{{node truediv_95}} = RealDiv[T=DT_FLOAT, _has_manual_control_dependencies=true](mul_100, Cast_95)}}' was changed by setting attribute after it was run by a session. This mutation will have no effect, and will trigger an error in the future. Either don't modify nodes after running them or create a new session.\n",
      "2023-11-18 13:09:04.437014: W tensorflow/c/c_api.cc:304] Operation '{name:'truediv_96' id:21238 op device:{requested: '', assigned: ''} def:{{{node truediv_96}} = RealDiv[T=DT_FLOAT, _has_manual_control_dependencies=true](mul_101, Cast_96)}}' was changed by setting attribute after it was run by a session. This mutation will have no effect, and will trigger an error in the future. Either don't modify nodes after running them or create a new session.\n",
      "2023-11-18 13:09:04.605197: W tensorflow/c/c_api.cc:304] Operation '{name:'truediv_97' id:21246 op device:{requested: '', assigned: ''} def:{{{node truediv_97}} = RealDiv[T=DT_FLOAT, _has_manual_control_dependencies=true](mul_102, Cast_97)}}' was changed by setting attribute after it was run by a session. This mutation will have no effect, and will trigger an error in the future. Either don't modify nodes after running them or create a new session.\n",
      "2023-11-18 13:09:04.768407: W tensorflow/c/c_api.cc:304] Operation '{name:'truediv_98' id:21254 op device:{requested: '', assigned: ''} def:{{{node truediv_98}} = RealDiv[T=DT_FLOAT, _has_manual_control_dependencies=true](mul_103, Cast_98)}}' was changed by setting attribute after it was run by a session. This mutation will have no effect, and will trigger an error in the future. Either don't modify nodes after running them or create a new session.\n",
      "2023-11-18 13:09:04.933277: W tensorflow/c/c_api.cc:304] Operation '{name:'truediv_99' id:21262 op device:{requested: '', assigned: ''} def:{{{node truediv_99}} = RealDiv[T=DT_FLOAT, _has_manual_control_dependencies=true](mul_104, Cast_99)}}' was changed by setting attribute after it was run by a session. This mutation will have no effect, and will trigger an error in the future. Either don't modify nodes after running them or create a new session.\n",
      "2023-11-18 13:09:05.093592: W tensorflow/c/c_api.cc:304] Operation '{name:'truediv_100' id:21270 op device:{requested: '', assigned: ''} def:{{{node truediv_100}} = RealDiv[T=DT_FLOAT, _has_manual_control_dependencies=true](mul_105, Cast_100)}}' was changed by setting attribute after it was run by a session. This mutation will have no effect, and will trigger an error in the future. Either don't modify nodes after running them or create a new session.\n",
      "2023-11-18 13:09:05.256018: W tensorflow/c/c_api.cc:304] Operation '{name:'truediv_101' id:21278 op device:{requested: '', assigned: ''} def:{{{node truediv_101}} = RealDiv[T=DT_FLOAT, _has_manual_control_dependencies=true](mul_106, Cast_101)}}' was changed by setting attribute after it was run by a session. This mutation will have no effect, and will trigger an error in the future. Either don't modify nodes after running them or create a new session.\n",
      "2023-11-18 13:09:05.561509: W tensorflow/c/c_api.cc:304] Operation '{name:'truediv_102' id:21286 op device:{requested: '', assigned: ''} def:{{{node truediv_102}} = RealDiv[T=DT_FLOAT, _has_manual_control_dependencies=true](mul_107, Cast_102)}}' was changed by setting attribute after it was run by a session. This mutation will have no effect, and will trigger an error in the future. Either don't modify nodes after running them or create a new session.\n",
      "2023-11-18 13:09:05.729906: W tensorflow/c/c_api.cc:304] Operation '{name:'truediv_103' id:21294 op device:{requested: '', assigned: ''} def:{{{node truediv_103}} = RealDiv[T=DT_FLOAT, _has_manual_control_dependencies=true](mul_108, Cast_103)}}' was changed by setting attribute after it was run by a session. This mutation will have no effect, and will trigger an error in the future. Either don't modify nodes after running them or create a new session.\n",
      "2023-11-18 13:09:05.895192: W tensorflow/c/c_api.cc:304] Operation '{name:'truediv_104' id:21302 op device:{requested: '', assigned: ''} def:{{{node truediv_104}} = RealDiv[T=DT_FLOAT, _has_manual_control_dependencies=true](mul_109, Cast_104)}}' was changed by setting attribute after it was run by a session. This mutation will have no effect, and will trigger an error in the future. Either don't modify nodes after running them or create a new session.\n",
      "2023-11-18 13:09:06.056101: W tensorflow/c/c_api.cc:304] Operation '{name:'truediv_105' id:21310 op device:{requested: '', assigned: ''} def:{{{node truediv_105}} = RealDiv[T=DT_FLOAT, _has_manual_control_dependencies=true](mul_110, Cast_105)}}' was changed by setting attribute after it was run by a session. This mutation will have no effect, and will trigger an error in the future. Either don't modify nodes after running them or create a new session.\n",
      "2023-11-18 13:09:06.226873: W tensorflow/c/c_api.cc:304] Operation '{name:'truediv_106' id:21318 op device:{requested: '', assigned: ''} def:{{{node truediv_106}} = RealDiv[T=DT_FLOAT, _has_manual_control_dependencies=true](mul_111, Cast_106)}}' was changed by setting attribute after it was run by a session. This mutation will have no effect, and will trigger an error in the future. Either don't modify nodes after running them or create a new session.\n",
      "2023-11-18 13:09:06.393473: W tensorflow/c/c_api.cc:304] Operation '{name:'truediv_107' id:21326 op device:{requested: '', assigned: ''} def:{{{node truediv_107}} = RealDiv[T=DT_FLOAT, _has_manual_control_dependencies=true](mul_112, Cast_107)}}' was changed by setting attribute after it was run by a session. This mutation will have no effect, and will trigger an error in the future. Either don't modify nodes after running them or create a new session.\n",
      "2023-11-18 13:09:06.556790: W tensorflow/c/c_api.cc:304] Operation '{name:'truediv_108' id:21334 op device:{requested: '', assigned: ''} def:{{{node truediv_108}} = RealDiv[T=DT_FLOAT, _has_manual_control_dependencies=true](mul_113, Cast_108)}}' was changed by setting attribute after it was run by a session. This mutation will have no effect, and will trigger an error in the future. Either don't modify nodes after running them or create a new session.\n",
      "2023-11-18 13:09:06.728818: W tensorflow/c/c_api.cc:304] Operation '{name:'truediv_109' id:21342 op device:{requested: '', assigned: ''} def:{{{node truediv_109}} = RealDiv[T=DT_FLOAT, _has_manual_control_dependencies=true](mul_114, Cast_109)}}' was changed by setting attribute after it was run by a session. This mutation will have no effect, and will trigger an error in the future. Either don't modify nodes after running them or create a new session.\n",
      "2023-11-18 13:09:06.891729: W tensorflow/c/c_api.cc:304] Operation '{name:'truediv_110' id:21350 op device:{requested: '', assigned: ''} def:{{{node truediv_110}} = RealDiv[T=DT_FLOAT, _has_manual_control_dependencies=true](mul_115, Cast_110)}}' was changed by setting attribute after it was run by a session. This mutation will have no effect, and will trigger an error in the future. Either don't modify nodes after running them or create a new session.\n",
      "2023-11-18 13:09:07.056785: W tensorflow/c/c_api.cc:304] Operation '{name:'truediv_111' id:21358 op device:{requested: '', assigned: ''} def:{{{node truediv_111}} = RealDiv[T=DT_FLOAT, _has_manual_control_dependencies=true](mul_116, Cast_111)}}' was changed by setting attribute after it was run by a session. This mutation will have no effect, and will trigger an error in the future. Either don't modify nodes after running them or create a new session.\n"
     ]
    },
    {
     "name": "stderr",
     "output_type": "stream",
     "text": [
      "2023-11-18 13:09:07.214357: W tensorflow/c/c_api.cc:304] Operation '{name:'truediv_112' id:21366 op device:{requested: '', assigned: ''} def:{{{node truediv_112}} = RealDiv[T=DT_FLOAT, _has_manual_control_dependencies=true](mul_117, Cast_112)}}' was changed by setting attribute after it was run by a session. This mutation will have no effect, and will trigger an error in the future. Either don't modify nodes after running them or create a new session.\n",
      "2023-11-18 13:09:07.387220: W tensorflow/c/c_api.cc:304] Operation '{name:'truediv_113' id:21374 op device:{requested: '', assigned: ''} def:{{{node truediv_113}} = RealDiv[T=DT_FLOAT, _has_manual_control_dependencies=true](mul_118, Cast_113)}}' was changed by setting attribute after it was run by a session. This mutation will have no effect, and will trigger an error in the future. Either don't modify nodes after running them or create a new session.\n",
      "2023-11-18 13:09:07.548637: W tensorflow/c/c_api.cc:304] Operation '{name:'truediv_114' id:21382 op device:{requested: '', assigned: ''} def:{{{node truediv_114}} = RealDiv[T=DT_FLOAT, _has_manual_control_dependencies=true](mul_119, Cast_114)}}' was changed by setting attribute after it was run by a session. This mutation will have no effect, and will trigger an error in the future. Either don't modify nodes after running them or create a new session.\n",
      "2023-11-18 13:09:07.709262: W tensorflow/c/c_api.cc:304] Operation '{name:'truediv_115' id:21390 op device:{requested: '', assigned: ''} def:{{{node truediv_115}} = RealDiv[T=DT_FLOAT, _has_manual_control_dependencies=true](mul_120, Cast_115)}}' was changed by setting attribute after it was run by a session. This mutation will have no effect, and will trigger an error in the future. Either don't modify nodes after running them or create a new session.\n",
      "2023-11-18 13:09:07.876584: W tensorflow/c/c_api.cc:304] Operation '{name:'truediv_116' id:21398 op device:{requested: '', assigned: ''} def:{{{node truediv_116}} = RealDiv[T=DT_FLOAT, _has_manual_control_dependencies=true](mul_121, Cast_116)}}' was changed by setting attribute after it was run by a session. This mutation will have no effect, and will trigger an error in the future. Either don't modify nodes after running them or create a new session.\n",
      "2023-11-18 13:09:08.041913: W tensorflow/c/c_api.cc:304] Operation '{name:'truediv_117' id:21406 op device:{requested: '', assigned: ''} def:{{{node truediv_117}} = RealDiv[T=DT_FLOAT, _has_manual_control_dependencies=true](mul_122, Cast_117)}}' was changed by setting attribute after it was run by a session. This mutation will have no effect, and will trigger an error in the future. Either don't modify nodes after running them or create a new session.\n",
      "2023-11-18 13:09:08.203881: W tensorflow/c/c_api.cc:304] Operation '{name:'truediv_118' id:21414 op device:{requested: '', assigned: ''} def:{{{node truediv_118}} = RealDiv[T=DT_FLOAT, _has_manual_control_dependencies=true](mul_123, Cast_118)}}' was changed by setting attribute after it was run by a session. This mutation will have no effect, and will trigger an error in the future. Either don't modify nodes after running them or create a new session.\n",
      "2023-11-18 13:09:08.380115: W tensorflow/c/c_api.cc:304] Operation '{name:'truediv_119' id:21422 op device:{requested: '', assigned: ''} def:{{{node truediv_119}} = RealDiv[T=DT_FLOAT, _has_manual_control_dependencies=true](mul_124, Cast_119)}}' was changed by setting attribute after it was run by a session. This mutation will have no effect, and will trigger an error in the future. Either don't modify nodes after running them or create a new session.\n",
      "2023-11-18 13:09:08.568109: W tensorflow/c/c_api.cc:304] Operation '{name:'truediv_120' id:21430 op device:{requested: '', assigned: ''} def:{{{node truediv_120}} = RealDiv[T=DT_FLOAT, _has_manual_control_dependencies=true](mul_125, Cast_120)}}' was changed by setting attribute after it was run by a session. This mutation will have no effect, and will trigger an error in the future. Either don't modify nodes after running them or create a new session.\n",
      "2023-11-18 13:09:08.732854: W tensorflow/c/c_api.cc:304] Operation '{name:'truediv_121' id:21438 op device:{requested: '', assigned: ''} def:{{{node truediv_121}} = RealDiv[T=DT_FLOAT, _has_manual_control_dependencies=true](mul_126, Cast_121)}}' was changed by setting attribute after it was run by a session. This mutation will have no effect, and will trigger an error in the future. Either don't modify nodes after running them or create a new session.\n",
      "2023-11-18 13:09:08.903980: W tensorflow/c/c_api.cc:304] Operation '{name:'truediv_122' id:21446 op device:{requested: '', assigned: ''} def:{{{node truediv_122}} = RealDiv[T=DT_FLOAT, _has_manual_control_dependencies=true](mul_127, Cast_122)}}' was changed by setting attribute after it was run by a session. This mutation will have no effect, and will trigger an error in the future. Either don't modify nodes after running them or create a new session.\n",
      "2023-11-18 13:09:09.063865: W tensorflow/c/c_api.cc:304] Operation '{name:'truediv_123' id:21454 op device:{requested: '', assigned: ''} def:{{{node truediv_123}} = RealDiv[T=DT_FLOAT, _has_manual_control_dependencies=true](mul_128, Cast_123)}}' was changed by setting attribute after it was run by a session. This mutation will have no effect, and will trigger an error in the future. Either don't modify nodes after running them or create a new session.\n",
      "2023-11-18 13:09:09.228316: W tensorflow/c/c_api.cc:304] Operation '{name:'truediv_124' id:21462 op device:{requested: '', assigned: ''} def:{{{node truediv_124}} = RealDiv[T=DT_FLOAT, _has_manual_control_dependencies=true](mul_129, Cast_124)}}' was changed by setting attribute after it was run by a session. This mutation will have no effect, and will trigger an error in the future. Either don't modify nodes after running them or create a new session.\n",
      "2023-11-18 13:09:09.399992: W tensorflow/c/c_api.cc:304] Operation '{name:'truediv_125' id:21470 op device:{requested: '', assigned: ''} def:{{{node truediv_125}} = RealDiv[T=DT_FLOAT, _has_manual_control_dependencies=true](mul_130, Cast_125)}}' was changed by setting attribute after it was run by a session. This mutation will have no effect, and will trigger an error in the future. Either don't modify nodes after running them or create a new session.\n",
      "2023-11-18 13:09:09.559112: W tensorflow/c/c_api.cc:304] Operation '{name:'truediv_126' id:21478 op device:{requested: '', assigned: ''} def:{{{node truediv_126}} = RealDiv[T=DT_FLOAT, _has_manual_control_dependencies=true](mul_131, Cast_126)}}' was changed by setting attribute after it was run by a session. This mutation will have no effect, and will trigger an error in the future. Either don't modify nodes after running them or create a new session.\n",
      "2023-11-18 13:09:09.723215: W tensorflow/c/c_api.cc:304] Operation '{name:'truediv_127' id:21486 op device:{requested: '', assigned: ''} def:{{{node truediv_127}} = RealDiv[T=DT_FLOAT, _has_manual_control_dependencies=true](mul_132, Cast_127)}}' was changed by setting attribute after it was run by a session. This mutation will have no effect, and will trigger an error in the future. Either don't modify nodes after running them or create a new session.\n",
      "2023-11-18 13:09:09.887896: W tensorflow/c/c_api.cc:304] Operation '{name:'truediv_128' id:21494 op device:{requested: '', assigned: ''} def:{{{node truediv_128}} = RealDiv[T=DT_FLOAT, _has_manual_control_dependencies=true](mul_133, Cast_128)}}' was changed by setting attribute after it was run by a session. This mutation will have no effect, and will trigger an error in the future. Either don't modify nodes after running them or create a new session.\n",
      "2023-11-18 13:09:10.047441: W tensorflow/c/c_api.cc:304] Operation '{name:'truediv_129' id:21502 op device:{requested: '', assigned: ''} def:{{{node truediv_129}} = RealDiv[T=DT_FLOAT, _has_manual_control_dependencies=true](mul_134, Cast_129)}}' was changed by setting attribute after it was run by a session. This mutation will have no effect, and will trigger an error in the future. Either don't modify nodes after running them or create a new session.\n"
     ]
    },
    {
     "name": "stderr",
     "output_type": "stream",
     "text": [
      "2023-11-18 13:09:10.211427: W tensorflow/c/c_api.cc:304] Operation '{name:'truediv_130' id:21510 op device:{requested: '', assigned: ''} def:{{{node truediv_130}} = RealDiv[T=DT_FLOAT, _has_manual_control_dependencies=true](mul_135, Cast_130)}}' was changed by setting attribute after it was run by a session. This mutation will have no effect, and will trigger an error in the future. Either don't modify nodes after running them or create a new session.\n",
      "2023-11-18 13:09:10.380574: W tensorflow/c/c_api.cc:304] Operation '{name:'truediv_131' id:21518 op device:{requested: '', assigned: ''} def:{{{node truediv_131}} = RealDiv[T=DT_FLOAT, _has_manual_control_dependencies=true](mul_136, Cast_131)}}' was changed by setting attribute after it was run by a session. This mutation will have no effect, and will trigger an error in the future. Either don't modify nodes after running them or create a new session.\n",
      "2023-11-18 13:09:10.547817: W tensorflow/c/c_api.cc:304] Operation '{name:'truediv_132' id:21526 op device:{requested: '', assigned: ''} def:{{{node truediv_132}} = RealDiv[T=DT_FLOAT, _has_manual_control_dependencies=true](mul_137, Cast_132)}}' was changed by setting attribute after it was run by a session. This mutation will have no effect, and will trigger an error in the future. Either don't modify nodes after running them or create a new session.\n",
      "2023-11-18 13:09:10.711469: W tensorflow/c/c_api.cc:304] Operation '{name:'truediv_133' id:21534 op device:{requested: '', assigned: ''} def:{{{node truediv_133}} = RealDiv[T=DT_FLOAT, _has_manual_control_dependencies=true](mul_138, Cast_133)}}' was changed by setting attribute after it was run by a session. This mutation will have no effect, and will trigger an error in the future. Either don't modify nodes after running them or create a new session.\n",
      "2023-11-18 13:09:10.889445: W tensorflow/c/c_api.cc:304] Operation '{name:'truediv_134' id:21542 op device:{requested: '', assigned: ''} def:{{{node truediv_134}} = RealDiv[T=DT_FLOAT, _has_manual_control_dependencies=true](mul_139, Cast_134)}}' was changed by setting attribute after it was run by a session. This mutation will have no effect, and will trigger an error in the future. Either don't modify nodes after running them or create a new session.\n",
      "2023-11-18 13:09:11.058382: W tensorflow/c/c_api.cc:304] Operation '{name:'truediv_135' id:21550 op device:{requested: '', assigned: ''} def:{{{node truediv_135}} = RealDiv[T=DT_FLOAT, _has_manual_control_dependencies=true](mul_140, Cast_135)}}' was changed by setting attribute after it was run by a session. This mutation will have no effect, and will trigger an error in the future. Either don't modify nodes after running them or create a new session.\n",
      "2023-11-18 13:09:11.221943: W tensorflow/c/c_api.cc:304] Operation '{name:'truediv_136' id:21558 op device:{requested: '', assigned: ''} def:{{{node truediv_136}} = RealDiv[T=DT_FLOAT, _has_manual_control_dependencies=true](mul_141, Cast_136)}}' was changed by setting attribute after it was run by a session. This mutation will have no effect, and will trigger an error in the future. Either don't modify nodes after running them or create a new session.\n",
      "2023-11-18 13:09:11.383790: W tensorflow/c/c_api.cc:304] Operation '{name:'truediv_137' id:21566 op device:{requested: '', assigned: ''} def:{{{node truediv_137}} = RealDiv[T=DT_FLOAT, _has_manual_control_dependencies=true](mul_142, Cast_137)}}' was changed by setting attribute after it was run by a session. This mutation will have no effect, and will trigger an error in the future. Either don't modify nodes after running them or create a new session.\n",
      "2023-11-18 13:09:11.546647: W tensorflow/c/c_api.cc:304] Operation '{name:'truediv_138' id:21574 op device:{requested: '', assigned: ''} def:{{{node truediv_138}} = RealDiv[T=DT_FLOAT, _has_manual_control_dependencies=true](mul_143, Cast_138)}}' was changed by setting attribute after it was run by a session. This mutation will have no effect, and will trigger an error in the future. Either don't modify nodes after running them or create a new session.\n",
      "2023-11-18 13:09:11.707224: W tensorflow/c/c_api.cc:304] Operation '{name:'truediv_139' id:21582 op device:{requested: '', assigned: ''} def:{{{node truediv_139}} = RealDiv[T=DT_FLOAT, _has_manual_control_dependencies=true](mul_144, Cast_139)}}' was changed by setting attribute after it was run by a session. This mutation will have no effect, and will trigger an error in the future. Either don't modify nodes after running them or create a new session.\n",
      "2023-11-18 13:09:11.879456: W tensorflow/c/c_api.cc:304] Operation '{name:'truediv_140' id:21590 op device:{requested: '', assigned: ''} def:{{{node truediv_140}} = RealDiv[T=DT_FLOAT, _has_manual_control_dependencies=true](mul_145, Cast_140)}}' was changed by setting attribute after it was run by a session. This mutation will have no effect, and will trigger an error in the future. Either don't modify nodes after running them or create a new session.\n",
      "2023-11-18 13:09:12.040148: W tensorflow/c/c_api.cc:304] Operation '{name:'truediv_141' id:21598 op device:{requested: '', assigned: ''} def:{{{node truediv_141}} = RealDiv[T=DT_FLOAT, _has_manual_control_dependencies=true](mul_146, Cast_141)}}' was changed by setting attribute after it was run by a session. This mutation will have no effect, and will trigger an error in the future. Either don't modify nodes after running them or create a new session.\n",
      "2023-11-18 13:09:12.206537: W tensorflow/c/c_api.cc:304] Operation '{name:'truediv_142' id:21606 op device:{requested: '', assigned: ''} def:{{{node truediv_142}} = RealDiv[T=DT_FLOAT, _has_manual_control_dependencies=true](mul_147, Cast_142)}}' was changed by setting attribute after it was run by a session. This mutation will have no effect, and will trigger an error in the future. Either don't modify nodes after running them or create a new session.\n",
      "2023-11-18 13:09:12.370533: W tensorflow/c/c_api.cc:304] Operation '{name:'truediv_143' id:21614 op device:{requested: '', assigned: ''} def:{{{node truediv_143}} = RealDiv[T=DT_FLOAT, _has_manual_control_dependencies=true](mul_148, Cast_143)}}' was changed by setting attribute after it was run by a session. This mutation will have no effect, and will trigger an error in the future. Either don't modify nodes after running them or create a new session.\n",
      "2023-11-18 13:09:12.533615: W tensorflow/c/c_api.cc:304] Operation '{name:'truediv_144' id:21622 op device:{requested: '', assigned: ''} def:{{{node truediv_144}} = RealDiv[T=DT_FLOAT, _has_manual_control_dependencies=true](mul_149, Cast_144)}}' was changed by setting attribute after it was run by a session. This mutation will have no effect, and will trigger an error in the future. Either don't modify nodes after running them or create a new session.\n",
      "2023-11-18 13:09:12.700824: W tensorflow/c/c_api.cc:304] Operation '{name:'truediv_145' id:21630 op device:{requested: '', assigned: ''} def:{{{node truediv_145}} = RealDiv[T=DT_FLOAT, _has_manual_control_dependencies=true](mul_150, Cast_145)}}' was changed by setting attribute after it was run by a session. This mutation will have no effect, and will trigger an error in the future. Either don't modify nodes after running them or create a new session.\n",
      "2023-11-18 13:09:12.873188: W tensorflow/c/c_api.cc:304] Operation '{name:'truediv_146' id:21638 op device:{requested: '', assigned: ''} def:{{{node truediv_146}} = RealDiv[T=DT_FLOAT, _has_manual_control_dependencies=true](mul_151, Cast_146)}}' was changed by setting attribute after it was run by a session. This mutation will have no effect, and will trigger an error in the future. Either don't modify nodes after running them or create a new session.\n",
      "2023-11-18 13:09:13.035262: W tensorflow/c/c_api.cc:304] Operation '{name:'truediv_147' id:21646 op device:{requested: '', assigned: ''} def:{{{node truediv_147}} = RealDiv[T=DT_FLOAT, _has_manual_control_dependencies=true](mul_152, Cast_147)}}' was changed by setting attribute after it was run by a session. This mutation will have no effect, and will trigger an error in the future. Either don't modify nodes after running them or create a new session.\n"
     ]
    },
    {
     "name": "stderr",
     "output_type": "stream",
     "text": [
      "2023-11-18 13:09:13.200424: W tensorflow/c/c_api.cc:304] Operation '{name:'truediv_148' id:21654 op device:{requested: '', assigned: ''} def:{{{node truediv_148}} = RealDiv[T=DT_FLOAT, _has_manual_control_dependencies=true](mul_153, Cast_148)}}' was changed by setting attribute after it was run by a session. This mutation will have no effect, and will trigger an error in the future. Either don't modify nodes after running them or create a new session.\n",
      "2023-11-18 13:09:13.367124: W tensorflow/c/c_api.cc:304] Operation '{name:'truediv_149' id:21662 op device:{requested: '', assigned: ''} def:{{{node truediv_149}} = RealDiv[T=DT_FLOAT, _has_manual_control_dependencies=true](mul_154, Cast_149)}}' was changed by setting attribute after it was run by a session. This mutation will have no effect, and will trigger an error in the future. Either don't modify nodes after running them or create a new session.\n",
      "2023-11-18 13:09:13.531819: W tensorflow/c/c_api.cc:304] Operation '{name:'truediv_150' id:21670 op device:{requested: '', assigned: ''} def:{{{node truediv_150}} = RealDiv[T=DT_FLOAT, _has_manual_control_dependencies=true](mul_155, Cast_150)}}' was changed by setting attribute after it was run by a session. This mutation will have no effect, and will trigger an error in the future. Either don't modify nodes after running them or create a new session.\n",
      "2023-11-18 13:09:13.692162: W tensorflow/c/c_api.cc:304] Operation '{name:'truediv_151' id:21678 op device:{requested: '', assigned: ''} def:{{{node truediv_151}} = RealDiv[T=DT_FLOAT, _has_manual_control_dependencies=true](mul_156, Cast_151)}}' was changed by setting attribute after it was run by a session. This mutation will have no effect, and will trigger an error in the future. Either don't modify nodes after running them or create a new session.\n",
      "2023-11-18 13:09:13.857191: W tensorflow/c/c_api.cc:304] Operation '{name:'truediv_152' id:21686 op device:{requested: '', assigned: ''} def:{{{node truediv_152}} = RealDiv[T=DT_FLOAT, _has_manual_control_dependencies=true](mul_157, Cast_152)}}' was changed by setting attribute after it was run by a session. This mutation will have no effect, and will trigger an error in the future. Either don't modify nodes after running them or create a new session.\n",
      "2023-11-18 13:09:14.015195: W tensorflow/c/c_api.cc:304] Operation '{name:'truediv_153' id:21694 op device:{requested: '', assigned: ''} def:{{{node truediv_153}} = RealDiv[T=DT_FLOAT, _has_manual_control_dependencies=true](mul_158, Cast_153)}}' was changed by setting attribute after it was run by a session. This mutation will have no effect, and will trigger an error in the future. Either don't modify nodes after running them or create a new session.\n",
      "2023-11-18 13:09:14.178293: W tensorflow/c/c_api.cc:304] Operation '{name:'truediv_154' id:21702 op device:{requested: '', assigned: ''} def:{{{node truediv_154}} = RealDiv[T=DT_FLOAT, _has_manual_control_dependencies=true](mul_159, Cast_154)}}' was changed by setting attribute after it was run by a session. This mutation will have no effect, and will trigger an error in the future. Either don't modify nodes after running them or create a new session.\n",
      "2023-11-18 13:09:14.345928: W tensorflow/c/c_api.cc:304] Operation '{name:'truediv_155' id:21710 op device:{requested: '', assigned: ''} def:{{{node truediv_155}} = RealDiv[T=DT_FLOAT, _has_manual_control_dependencies=true](mul_160, Cast_155)}}' was changed by setting attribute after it was run by a session. This mutation will have no effect, and will trigger an error in the future. Either don't modify nodes after running them or create a new session.\n",
      "2023-11-18 13:09:14.525944: W tensorflow/c/c_api.cc:304] Operation '{name:'truediv_156' id:21718 op device:{requested: '', assigned: ''} def:{{{node truediv_156}} = RealDiv[T=DT_FLOAT, _has_manual_control_dependencies=true](mul_161, Cast_156)}}' was changed by setting attribute after it was run by a session. This mutation will have no effect, and will trigger an error in the future. Either don't modify nodes after running them or create a new session.\n",
      "2023-11-18 13:09:14.709169: W tensorflow/c/c_api.cc:304] Operation '{name:'truediv_157' id:21726 op device:{requested: '', assigned: ''} def:{{{node truediv_157}} = RealDiv[T=DT_FLOAT, _has_manual_control_dependencies=true](mul_162, Cast_157)}}' was changed by setting attribute after it was run by a session. This mutation will have no effect, and will trigger an error in the future. Either don't modify nodes after running them or create a new session.\n",
      "2023-11-18 13:09:14.882209: W tensorflow/c/c_api.cc:304] Operation '{name:'truediv_158' id:21734 op device:{requested: '', assigned: ''} def:{{{node truediv_158}} = RealDiv[T=DT_FLOAT, _has_manual_control_dependencies=true](mul_163, Cast_158)}}' was changed by setting attribute after it was run by a session. This mutation will have no effect, and will trigger an error in the future. Either don't modify nodes after running them or create a new session.\n",
      "2023-11-18 13:09:15.046895: W tensorflow/c/c_api.cc:304] Operation '{name:'truediv_159' id:21742 op device:{requested: '', assigned: ''} def:{{{node truediv_159}} = RealDiv[T=DT_FLOAT, _has_manual_control_dependencies=true](mul_164, Cast_159)}}' was changed by setting attribute after it was run by a session. This mutation will have no effect, and will trigger an error in the future. Either don't modify nodes after running them or create a new session.\n",
      "2023-11-18 13:09:15.218161: W tensorflow/c/c_api.cc:304] Operation '{name:'truediv_160' id:21750 op device:{requested: '', assigned: ''} def:{{{node truediv_160}} = RealDiv[T=DT_FLOAT, _has_manual_control_dependencies=true](mul_165, Cast_160)}}' was changed by setting attribute after it was run by a session. This mutation will have no effect, and will trigger an error in the future. Either don't modify nodes after running them or create a new session.\n",
      "2023-11-18 13:09:15.387136: W tensorflow/c/c_api.cc:304] Operation '{name:'truediv_161' id:21758 op device:{requested: '', assigned: ''} def:{{{node truediv_161}} = RealDiv[T=DT_FLOAT, _has_manual_control_dependencies=true](mul_166, Cast_161)}}' was changed by setting attribute after it was run by a session. This mutation will have no effect, and will trigger an error in the future. Either don't modify nodes after running them or create a new session.\n",
      "2023-11-18 13:09:15.550128: W tensorflow/c/c_api.cc:304] Operation '{name:'truediv_162' id:21766 op device:{requested: '', assigned: ''} def:{{{node truediv_162}} = RealDiv[T=DT_FLOAT, _has_manual_control_dependencies=true](mul_167, Cast_162)}}' was changed by setting attribute after it was run by a session. This mutation will have no effect, and will trigger an error in the future. Either don't modify nodes after running them or create a new session.\n",
      "2023-11-18 13:09:15.710241: W tensorflow/c/c_api.cc:304] Operation '{name:'truediv_163' id:21774 op device:{requested: '', assigned: ''} def:{{{node truediv_163}} = RealDiv[T=DT_FLOAT, _has_manual_control_dependencies=true](mul_168, Cast_163)}}' was changed by setting attribute after it was run by a session. This mutation will have no effect, and will trigger an error in the future. Either don't modify nodes after running them or create a new session.\n",
      "2023-11-18 13:09:15.875784: W tensorflow/c/c_api.cc:304] Operation '{name:'truediv_164' id:21782 op device:{requested: '', assigned: ''} def:{{{node truediv_164}} = RealDiv[T=DT_FLOAT, _has_manual_control_dependencies=true](mul_169, Cast_164)}}' was changed by setting attribute after it was run by a session. This mutation will have no effect, and will trigger an error in the future. Either don't modify nodes after running them or create a new session.\n",
      "2023-11-18 13:09:16.043230: W tensorflow/c/c_api.cc:304] Operation '{name:'truediv_165' id:21790 op device:{requested: '', assigned: ''} def:{{{node truediv_165}} = RealDiv[T=DT_FLOAT, _has_manual_control_dependencies=true](mul_170, Cast_165)}}' was changed by setting attribute after it was run by a session. This mutation will have no effect, and will trigger an error in the future. Either don't modify nodes after running them or create a new session.\n"
     ]
    },
    {
     "name": "stderr",
     "output_type": "stream",
     "text": [
      "2023-11-18 13:09:16.205583: W tensorflow/c/c_api.cc:304] Operation '{name:'truediv_166' id:21798 op device:{requested: '', assigned: ''} def:{{{node truediv_166}} = RealDiv[T=DT_FLOAT, _has_manual_control_dependencies=true](mul_171, Cast_166)}}' was changed by setting attribute after it was run by a session. This mutation will have no effect, and will trigger an error in the future. Either don't modify nodes after running them or create a new session.\n",
      "2023-11-18 13:09:16.370317: W tensorflow/c/c_api.cc:304] Operation '{name:'truediv_167' id:21806 op device:{requested: '', assigned: ''} def:{{{node truediv_167}} = RealDiv[T=DT_FLOAT, _has_manual_control_dependencies=true](mul_172, Cast_167)}}' was changed by setting attribute after it was run by a session. This mutation will have no effect, and will trigger an error in the future. Either don't modify nodes after running them or create a new session.\n",
      "2023-11-18 13:09:16.529616: W tensorflow/c/c_api.cc:304] Operation '{name:'truediv_168' id:21814 op device:{requested: '', assigned: ''} def:{{{node truediv_168}} = RealDiv[T=DT_FLOAT, _has_manual_control_dependencies=true](mul_173, Cast_168)}}' was changed by setting attribute after it was run by a session. This mutation will have no effect, and will trigger an error in the future. Either don't modify nodes after running them or create a new session.\n",
      "2023-11-18 13:09:16.697573: W tensorflow/c/c_api.cc:304] Operation '{name:'truediv_169' id:21822 op device:{requested: '', assigned: ''} def:{{{node truediv_169}} = RealDiv[T=DT_FLOAT, _has_manual_control_dependencies=true](mul_174, Cast_169)}}' was changed by setting attribute after it was run by a session. This mutation will have no effect, and will trigger an error in the future. Either don't modify nodes after running them or create a new session.\n",
      "2023-11-18 13:09:16.859839: W tensorflow/c/c_api.cc:304] Operation '{name:'truediv_170' id:21830 op device:{requested: '', assigned: ''} def:{{{node truediv_170}} = RealDiv[T=DT_FLOAT, _has_manual_control_dependencies=true](mul_175, Cast_170)}}' was changed by setting attribute after it was run by a session. This mutation will have no effect, and will trigger an error in the future. Either don't modify nodes after running them or create a new session.\n",
      "2023-11-18 13:09:17.026235: W tensorflow/c/c_api.cc:304] Operation '{name:'truediv_171' id:21838 op device:{requested: '', assigned: ''} def:{{{node truediv_171}} = RealDiv[T=DT_FLOAT, _has_manual_control_dependencies=true](mul_176, Cast_171)}}' was changed by setting attribute after it was run by a session. This mutation will have no effect, and will trigger an error in the future. Either don't modify nodes after running them or create a new session.\n",
      "2023-11-18 13:09:17.185844: W tensorflow/c/c_api.cc:304] Operation '{name:'truediv_172' id:21846 op device:{requested: '', assigned: ''} def:{{{node truediv_172}} = RealDiv[T=DT_FLOAT, _has_manual_control_dependencies=true](mul_177, Cast_172)}}' was changed by setting attribute after it was run by a session. This mutation will have no effect, and will trigger an error in the future. Either don't modify nodes after running them or create a new session.\n",
      "2023-11-18 13:09:17.347425: W tensorflow/c/c_api.cc:304] Operation '{name:'truediv_173' id:21854 op device:{requested: '', assigned: ''} def:{{{node truediv_173}} = RealDiv[T=DT_FLOAT, _has_manual_control_dependencies=true](mul_178, Cast_173)}}' was changed by setting attribute after it was run by a session. This mutation will have no effect, and will trigger an error in the future. Either don't modify nodes after running them or create a new session.\n",
      "2023-11-18 13:09:17.511428: W tensorflow/c/c_api.cc:304] Operation '{name:'truediv_174' id:21862 op device:{requested: '', assigned: ''} def:{{{node truediv_174}} = RealDiv[T=DT_FLOAT, _has_manual_control_dependencies=true](mul_179, Cast_174)}}' was changed by setting attribute after it was run by a session. This mutation will have no effect, and will trigger an error in the future. Either don't modify nodes after running them or create a new session.\n",
      "2023-11-18 13:09:17.678832: W tensorflow/c/c_api.cc:304] Operation '{name:'truediv_175' id:21870 op device:{requested: '', assigned: ''} def:{{{node truediv_175}} = RealDiv[T=DT_FLOAT, _has_manual_control_dependencies=true](mul_180, Cast_175)}}' was changed by setting attribute after it was run by a session. This mutation will have no effect, and will trigger an error in the future. Either don't modify nodes after running them or create a new session.\n",
      "2023-11-18 13:09:17.844946: W tensorflow/c/c_api.cc:304] Operation '{name:'truediv_176' id:21878 op device:{requested: '', assigned: ''} def:{{{node truediv_176}} = RealDiv[T=DT_FLOAT, _has_manual_control_dependencies=true](mul_181, Cast_176)}}' was changed by setting attribute after it was run by a session. This mutation will have no effect, and will trigger an error in the future. Either don't modify nodes after running them or create a new session.\n",
      "2023-11-18 13:09:18.014218: W tensorflow/c/c_api.cc:304] Operation '{name:'truediv_177' id:21886 op device:{requested: '', assigned: ''} def:{{{node truediv_177}} = RealDiv[T=DT_FLOAT, _has_manual_control_dependencies=true](mul_182, Cast_177)}}' was changed by setting attribute after it was run by a session. This mutation will have no effect, and will trigger an error in the future. Either don't modify nodes after running them or create a new session.\n",
      "2023-11-18 13:09:18.181452: W tensorflow/c/c_api.cc:304] Operation '{name:'truediv_178' id:21894 op device:{requested: '', assigned: ''} def:{{{node truediv_178}} = RealDiv[T=DT_FLOAT, _has_manual_control_dependencies=true](mul_183, Cast_178)}}' was changed by setting attribute after it was run by a session. This mutation will have no effect, and will trigger an error in the future. Either don't modify nodes after running them or create a new session.\n",
      "2023-11-18 13:09:18.342059: W tensorflow/c/c_api.cc:304] Operation '{name:'truediv_179' id:21902 op device:{requested: '', assigned: ''} def:{{{node truediv_179}} = RealDiv[T=DT_FLOAT, _has_manual_control_dependencies=true](mul_184, Cast_179)}}' was changed by setting attribute after it was run by a session. This mutation will have no effect, and will trigger an error in the future. Either don't modify nodes after running them or create a new session.\n",
      "2023-11-18 13:09:18.501354: W tensorflow/c/c_api.cc:304] Operation '{name:'truediv_180' id:21910 op device:{requested: '', assigned: ''} def:{{{node truediv_180}} = RealDiv[T=DT_FLOAT, _has_manual_control_dependencies=true](mul_185, Cast_180)}}' was changed by setting attribute after it was run by a session. This mutation will have no effect, and will trigger an error in the future. Either don't modify nodes after running them or create a new session.\n",
      "2023-11-18 13:09:18.682700: W tensorflow/c/c_api.cc:304] Operation '{name:'truediv_181' id:21918 op device:{requested: '', assigned: ''} def:{{{node truediv_181}} = RealDiv[T=DT_FLOAT, _has_manual_control_dependencies=true](mul_186, Cast_181)}}' was changed by setting attribute after it was run by a session. This mutation will have no effect, and will trigger an error in the future. Either don't modify nodes after running them or create a new session.\n",
      "2023-11-18 13:09:18.866505: W tensorflow/c/c_api.cc:304] Operation '{name:'truediv_182' id:21926 op device:{requested: '', assigned: ''} def:{{{node truediv_182}} = RealDiv[T=DT_FLOAT, _has_manual_control_dependencies=true](mul_187, Cast_182)}}' was changed by setting attribute after it was run by a session. This mutation will have no effect, and will trigger an error in the future. Either don't modify nodes after running them or create a new session.\n",
      "2023-11-18 13:09:19.029545: W tensorflow/c/c_api.cc:304] Operation '{name:'truediv_183' id:21934 op device:{requested: '', assigned: ''} def:{{{node truediv_183}} = RealDiv[T=DT_FLOAT, _has_manual_control_dependencies=true](mul_188, Cast_183)}}' was changed by setting attribute after it was run by a session. This mutation will have no effect, and will trigger an error in the future. Either don't modify nodes after running them or create a new session.\n"
     ]
    },
    {
     "name": "stderr",
     "output_type": "stream",
     "text": [
      "2023-11-18 13:09:19.199178: W tensorflow/c/c_api.cc:304] Operation '{name:'truediv_184' id:21942 op device:{requested: '', assigned: ''} def:{{{node truediv_184}} = RealDiv[T=DT_FLOAT, _has_manual_control_dependencies=true](mul_189, Cast_184)}}' was changed by setting attribute after it was run by a session. This mutation will have no effect, and will trigger an error in the future. Either don't modify nodes after running them or create a new session.\n",
      "2023-11-18 13:09:19.365330: W tensorflow/c/c_api.cc:304] Operation '{name:'truediv_185' id:21950 op device:{requested: '', assigned: ''} def:{{{node truediv_185}} = RealDiv[T=DT_FLOAT, _has_manual_control_dependencies=true](mul_190, Cast_185)}}' was changed by setting attribute after it was run by a session. This mutation will have no effect, and will trigger an error in the future. Either don't modify nodes after running them or create a new session.\n",
      "2023-11-18 13:09:19.529345: W tensorflow/c/c_api.cc:304] Operation '{name:'truediv_186' id:21958 op device:{requested: '', assigned: ''} def:{{{node truediv_186}} = RealDiv[T=DT_FLOAT, _has_manual_control_dependencies=true](mul_191, Cast_186)}}' was changed by setting attribute after it was run by a session. This mutation will have no effect, and will trigger an error in the future. Either don't modify nodes after running them or create a new session.\n",
      "2023-11-18 13:09:19.721245: W tensorflow/c/c_api.cc:304] Operation '{name:'truediv_187' id:21966 op device:{requested: '', assigned: ''} def:{{{node truediv_187}} = RealDiv[T=DT_FLOAT, _has_manual_control_dependencies=true](mul_192, Cast_187)}}' was changed by setting attribute after it was run by a session. This mutation will have no effect, and will trigger an error in the future. Either don't modify nodes after running them or create a new session.\n",
      "2023-11-18 13:09:19.883426: W tensorflow/c/c_api.cc:304] Operation '{name:'truediv_188' id:21974 op device:{requested: '', assigned: ''} def:{{{node truediv_188}} = RealDiv[T=DT_FLOAT, _has_manual_control_dependencies=true](mul_193, Cast_188)}}' was changed by setting attribute after it was run by a session. This mutation will have no effect, and will trigger an error in the future. Either don't modify nodes after running them or create a new session.\n",
      "2023-11-18 13:09:20.051364: W tensorflow/c/c_api.cc:304] Operation '{name:'truediv_189' id:21982 op device:{requested: '', assigned: ''} def:{{{node truediv_189}} = RealDiv[T=DT_FLOAT, _has_manual_control_dependencies=true](mul_194, Cast_189)}}' was changed by setting attribute after it was run by a session. This mutation will have no effect, and will trigger an error in the future. Either don't modify nodes after running them or create a new session.\n",
      "2023-11-18 13:09:20.225297: W tensorflow/c/c_api.cc:304] Operation '{name:'truediv_190' id:21990 op device:{requested: '', assigned: ''} def:{{{node truediv_190}} = RealDiv[T=DT_FLOAT, _has_manual_control_dependencies=true](mul_195, Cast_190)}}' was changed by setting attribute after it was run by a session. This mutation will have no effect, and will trigger an error in the future. Either don't modify nodes after running them or create a new session.\n",
      "2023-11-18 13:09:20.392080: W tensorflow/c/c_api.cc:304] Operation '{name:'truediv_191' id:21998 op device:{requested: '', assigned: ''} def:{{{node truediv_191}} = RealDiv[T=DT_FLOAT, _has_manual_control_dependencies=true](mul_196, Cast_191)}}' was changed by setting attribute after it was run by a session. This mutation will have no effect, and will trigger an error in the future. Either don't modify nodes after running them or create a new session.\n",
      "2023-11-18 13:09:20.561222: W tensorflow/c/c_api.cc:304] Operation '{name:'truediv_192' id:22006 op device:{requested: '', assigned: ''} def:{{{node truediv_192}} = RealDiv[T=DT_FLOAT, _has_manual_control_dependencies=true](mul_197, Cast_192)}}' was changed by setting attribute after it was run by a session. This mutation will have no effect, and will trigger an error in the future. Either don't modify nodes after running them or create a new session.\n",
      "2023-11-18 13:09:20.727651: W tensorflow/c/c_api.cc:304] Operation '{name:'truediv_193' id:22014 op device:{requested: '', assigned: ''} def:{{{node truediv_193}} = RealDiv[T=DT_FLOAT, _has_manual_control_dependencies=true](mul_198, Cast_193)}}' was changed by setting attribute after it was run by a session. This mutation will have no effect, and will trigger an error in the future. Either don't modify nodes after running them or create a new session.\n",
      "2023-11-18 13:09:20.895737: W tensorflow/c/c_api.cc:304] Operation '{name:'truediv_194' id:22022 op device:{requested: '', assigned: ''} def:{{{node truediv_194}} = RealDiv[T=DT_FLOAT, _has_manual_control_dependencies=true](mul_199, Cast_194)}}' was changed by setting attribute after it was run by a session. This mutation will have no effect, and will trigger an error in the future. Either don't modify nodes after running them or create a new session.\n",
      "2023-11-18 13:09:21.061028: W tensorflow/c/c_api.cc:304] Operation '{name:'truediv_195' id:22030 op device:{requested: '', assigned: ''} def:{{{node truediv_195}} = RealDiv[T=DT_FLOAT, _has_manual_control_dependencies=true](mul_200, Cast_195)}}' was changed by setting attribute after it was run by a session. This mutation will have no effect, and will trigger an error in the future. Either don't modify nodes after running them or create a new session.\n",
      "2023-11-18 13:09:21.227827: W tensorflow/c/c_api.cc:304] Operation '{name:'truediv_196' id:22038 op device:{requested: '', assigned: ''} def:{{{node truediv_196}} = RealDiv[T=DT_FLOAT, _has_manual_control_dependencies=true](mul_201, Cast_196)}}' was changed by setting attribute after it was run by a session. This mutation will have no effect, and will trigger an error in the future. Either don't modify nodes after running them or create a new session.\n",
      "2023-11-18 13:09:21.397528: W tensorflow/c/c_api.cc:304] Operation '{name:'truediv_197' id:22046 op device:{requested: '', assigned: ''} def:{{{node truediv_197}} = RealDiv[T=DT_FLOAT, _has_manual_control_dependencies=true](mul_202, Cast_197)}}' was changed by setting attribute after it was run by a session. This mutation will have no effect, and will trigger an error in the future. Either don't modify nodes after running them or create a new session.\n",
      "2023-11-18 13:09:21.567624: W tensorflow/c/c_api.cc:304] Operation '{name:'truediv_198' id:22054 op device:{requested: '', assigned: ''} def:{{{node truediv_198}} = RealDiv[T=DT_FLOAT, _has_manual_control_dependencies=true](mul_203, Cast_198)}}' was changed by setting attribute after it was run by a session. This mutation will have no effect, and will trigger an error in the future. Either don't modify nodes after running them or create a new session.\n",
      "2023-11-18 13:09:21.743372: W tensorflow/c/c_api.cc:304] Operation '{name:'truediv_199' id:22062 op device:{requested: '', assigned: ''} def:{{{node truediv_199}} = RealDiv[T=DT_FLOAT, _has_manual_control_dependencies=true](mul_204, Cast_199)}}' was changed by setting attribute after it was run by a session. This mutation will have no effect, and will trigger an error in the future. Either don't modify nodes after running them or create a new session.\n",
      "2023-11-18 13:09:21.914456: W tensorflow/c/c_api.cc:304] Operation '{name:'truediv_200' id:22070 op device:{requested: '', assigned: ''} def:{{{node truediv_200}} = RealDiv[T=DT_FLOAT, _has_manual_control_dependencies=true](mul_205, Cast_200)}}' was changed by setting attribute after it was run by a session. This mutation will have no effect, and will trigger an error in the future. Either don't modify nodes after running them or create a new session.\n",
      "2023-11-18 13:09:22.082736: W tensorflow/c/c_api.cc:304] Operation '{name:'truediv_201' id:22078 op device:{requested: '', assigned: ''} def:{{{node truediv_201}} = RealDiv[T=DT_FLOAT, _has_manual_control_dependencies=true](mul_206, Cast_201)}}' was changed by setting attribute after it was run by a session. This mutation will have no effect, and will trigger an error in the future. Either don't modify nodes after running them or create a new session.\n"
     ]
    },
    {
     "name": "stderr",
     "output_type": "stream",
     "text": [
      "2023-11-18 13:09:22.255492: W tensorflow/c/c_api.cc:304] Operation '{name:'truediv_202' id:22086 op device:{requested: '', assigned: ''} def:{{{node truediv_202}} = RealDiv[T=DT_FLOAT, _has_manual_control_dependencies=true](mul_207, Cast_202)}}' was changed by setting attribute after it was run by a session. This mutation will have no effect, and will trigger an error in the future. Either don't modify nodes after running them or create a new session.\n",
      "2023-11-18 13:09:22.426957: W tensorflow/c/c_api.cc:304] Operation '{name:'truediv_203' id:22094 op device:{requested: '', assigned: ''} def:{{{node truediv_203}} = RealDiv[T=DT_FLOAT, _has_manual_control_dependencies=true](mul_208, Cast_203)}}' was changed by setting attribute after it was run by a session. This mutation will have no effect, and will trigger an error in the future. Either don't modify nodes after running them or create a new session.\n",
      "2023-11-18 13:09:22.605446: W tensorflow/c/c_api.cc:304] Operation '{name:'truediv_204' id:22102 op device:{requested: '', assigned: ''} def:{{{node truediv_204}} = RealDiv[T=DT_FLOAT, _has_manual_control_dependencies=true](mul_209, Cast_204)}}' was changed by setting attribute after it was run by a session. This mutation will have no effect, and will trigger an error in the future. Either don't modify nodes after running them or create a new session.\n",
      "2023-11-18 13:09:22.778876: W tensorflow/c/c_api.cc:304] Operation '{name:'truediv_205' id:22110 op device:{requested: '', assigned: ''} def:{{{node truediv_205}} = RealDiv[T=DT_FLOAT, _has_manual_control_dependencies=true](mul_210, Cast_205)}}' was changed by setting attribute after it was run by a session. This mutation will have no effect, and will trigger an error in the future. Either don't modify nodes after running them or create a new session.\n",
      "2023-11-18 13:09:22.956943: W tensorflow/c/c_api.cc:304] Operation '{name:'truediv_206' id:22118 op device:{requested: '', assigned: ''} def:{{{node truediv_206}} = RealDiv[T=DT_FLOAT, _has_manual_control_dependencies=true](mul_211, Cast_206)}}' was changed by setting attribute after it was run by a session. This mutation will have no effect, and will trigger an error in the future. Either don't modify nodes after running them or create a new session.\n",
      "2023-11-18 13:09:23.131274: W tensorflow/c/c_api.cc:304] Operation '{name:'truediv_207' id:22126 op device:{requested: '', assigned: ''} def:{{{node truediv_207}} = RealDiv[T=DT_FLOAT, _has_manual_control_dependencies=true](mul_212, Cast_207)}}' was changed by setting attribute after it was run by a session. This mutation will have no effect, and will trigger an error in the future. Either don't modify nodes after running them or create a new session.\n",
      "2023-11-18 13:09:23.303860: W tensorflow/c/c_api.cc:304] Operation '{name:'truediv_208' id:22134 op device:{requested: '', assigned: ''} def:{{{node truediv_208}} = RealDiv[T=DT_FLOAT, _has_manual_control_dependencies=true](mul_213, Cast_208)}}' was changed by setting attribute after it was run by a session. This mutation will have no effect, and will trigger an error in the future. Either don't modify nodes after running them or create a new session.\n",
      "2023-11-18 13:09:23.476350: W tensorflow/c/c_api.cc:304] Operation '{name:'truediv_209' id:22142 op device:{requested: '', assigned: ''} def:{{{node truediv_209}} = RealDiv[T=DT_FLOAT, _has_manual_control_dependencies=true](mul_214, Cast_209)}}' was changed by setting attribute after it was run by a session. This mutation will have no effect, and will trigger an error in the future. Either don't modify nodes after running them or create a new session.\n",
      "2023-11-18 13:09:23.643834: W tensorflow/c/c_api.cc:304] Operation '{name:'truediv_210' id:22150 op device:{requested: '', assigned: ''} def:{{{node truediv_210}} = RealDiv[T=DT_FLOAT, _has_manual_control_dependencies=true](mul_215, Cast_210)}}' was changed by setting attribute after it was run by a session. This mutation will have no effect, and will trigger an error in the future. Either don't modify nodes after running them or create a new session.\n",
      "2023-11-18 13:09:23.810923: W tensorflow/c/c_api.cc:304] Operation '{name:'truediv_211' id:22158 op device:{requested: '', assigned: ''} def:{{{node truediv_211}} = RealDiv[T=DT_FLOAT, _has_manual_control_dependencies=true](mul_216, Cast_211)}}' was changed by setting attribute after it was run by a session. This mutation will have no effect, and will trigger an error in the future. Either don't modify nodes after running them or create a new session.\n",
      "2023-11-18 13:09:23.983837: W tensorflow/c/c_api.cc:304] Operation '{name:'truediv_212' id:22166 op device:{requested: '', assigned: ''} def:{{{node truediv_212}} = RealDiv[T=DT_FLOAT, _has_manual_control_dependencies=true](mul_217, Cast_212)}}' was changed by setting attribute after it was run by a session. This mutation will have no effect, and will trigger an error in the future. Either don't modify nodes after running them or create a new session.\n",
      "2023-11-18 13:09:24.148168: W tensorflow/c/c_api.cc:304] Operation '{name:'truediv_213' id:22174 op device:{requested: '', assigned: ''} def:{{{node truediv_213}} = RealDiv[T=DT_FLOAT, _has_manual_control_dependencies=true](mul_218, Cast_213)}}' was changed by setting attribute after it was run by a session. This mutation will have no effect, and will trigger an error in the future. Either don't modify nodes after running them or create a new session.\n",
      "2023-11-18 13:09:24.313547: W tensorflow/c/c_api.cc:304] Operation '{name:'truediv_214' id:22182 op device:{requested: '', assigned: ''} def:{{{node truediv_214}} = RealDiv[T=DT_FLOAT, _has_manual_control_dependencies=true](mul_219, Cast_214)}}' was changed by setting attribute after it was run by a session. This mutation will have no effect, and will trigger an error in the future. Either don't modify nodes after running them or create a new session.\n",
      "2023-11-18 13:09:24.484088: W tensorflow/c/c_api.cc:304] Operation '{name:'truediv_215' id:22190 op device:{requested: '', assigned: ''} def:{{{node truediv_215}} = RealDiv[T=DT_FLOAT, _has_manual_control_dependencies=true](mul_220, Cast_215)}}' was changed by setting attribute after it was run by a session. This mutation will have no effect, and will trigger an error in the future. Either don't modify nodes after running them or create a new session.\n",
      "2023-11-18 13:09:24.668372: W tensorflow/c/c_api.cc:304] Operation '{name:'truediv_216' id:22198 op device:{requested: '', assigned: ''} def:{{{node truediv_216}} = RealDiv[T=DT_FLOAT, _has_manual_control_dependencies=true](mul_221, Cast_216)}}' was changed by setting attribute after it was run by a session. This mutation will have no effect, and will trigger an error in the future. Either don't modify nodes after running them or create a new session.\n",
      "2023-11-18 13:09:24.842326: W tensorflow/c/c_api.cc:304] Operation '{name:'truediv_217' id:22206 op device:{requested: '', assigned: ''} def:{{{node truediv_217}} = RealDiv[T=DT_FLOAT, _has_manual_control_dependencies=true](mul_222, Cast_217)}}' was changed by setting attribute after it was run by a session. This mutation will have no effect, and will trigger an error in the future. Either don't modify nodes after running them or create a new session.\n",
      "2023-11-18 13:09:25.012531: W tensorflow/c/c_api.cc:304] Operation '{name:'truediv_218' id:22214 op device:{requested: '', assigned: ''} def:{{{node truediv_218}} = RealDiv[T=DT_FLOAT, _has_manual_control_dependencies=true](mul_223, Cast_218)}}' was changed by setting attribute after it was run by a session. This mutation will have no effect, and will trigger an error in the future. Either don't modify nodes after running them or create a new session.\n",
      "2023-11-18 13:09:25.181686: W tensorflow/c/c_api.cc:304] Operation '{name:'truediv_219' id:22222 op device:{requested: '', assigned: ''} def:{{{node truediv_219}} = RealDiv[T=DT_FLOAT, _has_manual_control_dependencies=true](mul_224, Cast_219)}}' was changed by setting attribute after it was run by a session. This mutation will have no effect, and will trigger an error in the future. Either don't modify nodes after running them or create a new session.\n"
     ]
    },
    {
     "name": "stderr",
     "output_type": "stream",
     "text": [
      "2023-11-18 13:09:25.349164: W tensorflow/c/c_api.cc:304] Operation '{name:'truediv_220' id:22230 op device:{requested: '', assigned: ''} def:{{{node truediv_220}} = RealDiv[T=DT_FLOAT, _has_manual_control_dependencies=true](mul_225, Cast_220)}}' was changed by setting attribute after it was run by a session. This mutation will have no effect, and will trigger an error in the future. Either don't modify nodes after running them or create a new session.\n",
      "2023-11-18 13:09:25.514394: W tensorflow/c/c_api.cc:304] Operation '{name:'truediv_221' id:22238 op device:{requested: '', assigned: ''} def:{{{node truediv_221}} = RealDiv[T=DT_FLOAT, _has_manual_control_dependencies=true](mul_226, Cast_221)}}' was changed by setting attribute after it was run by a session. This mutation will have no effect, and will trigger an error in the future. Either don't modify nodes after running them or create a new session.\n",
      "2023-11-18 13:09:25.680831: W tensorflow/c/c_api.cc:304] Operation '{name:'truediv_222' id:22246 op device:{requested: '', assigned: ''} def:{{{node truediv_222}} = RealDiv[T=DT_FLOAT, _has_manual_control_dependencies=true](mul_227, Cast_222)}}' was changed by setting attribute after it was run by a session. This mutation will have no effect, and will trigger an error in the future. Either don't modify nodes after running them or create a new session.\n",
      "2023-11-18 13:09:25.844052: W tensorflow/c/c_api.cc:304] Operation '{name:'truediv_223' id:22254 op device:{requested: '', assigned: ''} def:{{{node truediv_223}} = RealDiv[T=DT_FLOAT, _has_manual_control_dependencies=true](mul_228, Cast_223)}}' was changed by setting attribute after it was run by a session. This mutation will have no effect, and will trigger an error in the future. Either don't modify nodes after running them or create a new session.\n",
      "2023-11-18 13:09:26.009027: W tensorflow/c/c_api.cc:304] Operation '{name:'truediv_224' id:22262 op device:{requested: '', assigned: ''} def:{{{node truediv_224}} = RealDiv[T=DT_FLOAT, _has_manual_control_dependencies=true](mul_229, Cast_224)}}' was changed by setting attribute after it was run by a session. This mutation will have no effect, and will trigger an error in the future. Either don't modify nodes after running them or create a new session.\n",
      "2023-11-18 13:09:26.177693: W tensorflow/c/c_api.cc:304] Operation '{name:'truediv_225' id:22270 op device:{requested: '', assigned: ''} def:{{{node truediv_225}} = RealDiv[T=DT_FLOAT, _has_manual_control_dependencies=true](mul_230, Cast_225)}}' was changed by setting attribute after it was run by a session. This mutation will have no effect, and will trigger an error in the future. Either don't modify nodes after running them or create a new session.\n",
      "2023-11-18 13:09:26.351190: W tensorflow/c/c_api.cc:304] Operation '{name:'truediv_226' id:22278 op device:{requested: '', assigned: ''} def:{{{node truediv_226}} = RealDiv[T=DT_FLOAT, _has_manual_control_dependencies=true](mul_231, Cast_226)}}' was changed by setting attribute after it was run by a session. This mutation will have no effect, and will trigger an error in the future. Either don't modify nodes after running them or create a new session.\n",
      "2023-11-18 13:09:26.515592: W tensorflow/c/c_api.cc:304] Operation '{name:'truediv_227' id:22286 op device:{requested: '', assigned: ''} def:{{{node truediv_227}} = RealDiv[T=DT_FLOAT, _has_manual_control_dependencies=true](mul_232, Cast_227)}}' was changed by setting attribute after it was run by a session. This mutation will have no effect, and will trigger an error in the future. Either don't modify nodes after running them or create a new session.\n",
      "2023-11-18 13:09:26.688748: W tensorflow/c/c_api.cc:304] Operation '{name:'truediv_228' id:22294 op device:{requested: '', assigned: ''} def:{{{node truediv_228}} = RealDiv[T=DT_FLOAT, _has_manual_control_dependencies=true](mul_233, Cast_228)}}' was changed by setting attribute after it was run by a session. This mutation will have no effect, and will trigger an error in the future. Either don't modify nodes after running them or create a new session.\n",
      "2023-11-18 13:09:26.857333: W tensorflow/c/c_api.cc:304] Operation '{name:'truediv_229' id:22302 op device:{requested: '', assigned: ''} def:{{{node truediv_229}} = RealDiv[T=DT_FLOAT, _has_manual_control_dependencies=true](mul_234, Cast_229)}}' was changed by setting attribute after it was run by a session. This mutation will have no effect, and will trigger an error in the future. Either don't modify nodes after running them or create a new session.\n",
      "2023-11-18 13:09:27.022772: W tensorflow/c/c_api.cc:304] Operation '{name:'truediv_230' id:22310 op device:{requested: '', assigned: ''} def:{{{node truediv_230}} = RealDiv[T=DT_FLOAT, _has_manual_control_dependencies=true](mul_235, Cast_230)}}' was changed by setting attribute after it was run by a session. This mutation will have no effect, and will trigger an error in the future. Either don't modify nodes after running them or create a new session.\n",
      "2023-11-18 13:09:27.197676: W tensorflow/c/c_api.cc:304] Operation '{name:'truediv_231' id:22318 op device:{requested: '', assigned: ''} def:{{{node truediv_231}} = RealDiv[T=DT_FLOAT, _has_manual_control_dependencies=true](mul_236, Cast_231)}}' was changed by setting attribute after it was run by a session. This mutation will have no effect, and will trigger an error in the future. Either don't modify nodes after running them or create a new session.\n",
      "2023-11-18 13:09:27.367712: W tensorflow/c/c_api.cc:304] Operation '{name:'truediv_232' id:22326 op device:{requested: '', assigned: ''} def:{{{node truediv_232}} = RealDiv[T=DT_FLOAT, _has_manual_control_dependencies=true](mul_237, Cast_232)}}' was changed by setting attribute after it was run by a session. This mutation will have no effect, and will trigger an error in the future. Either don't modify nodes after running them or create a new session.\n",
      "2023-11-18 13:09:27.535812: W tensorflow/c/c_api.cc:304] Operation '{name:'truediv_233' id:22334 op device:{requested: '', assigned: ''} def:{{{node truediv_233}} = RealDiv[T=DT_FLOAT, _has_manual_control_dependencies=true](mul_238, Cast_233)}}' was changed by setting attribute after it was run by a session. This mutation will have no effect, and will trigger an error in the future. Either don't modify nodes after running them or create a new session.\n",
      "2023-11-18 13:09:27.705904: W tensorflow/c/c_api.cc:304] Operation '{name:'truediv_234' id:22342 op device:{requested: '', assigned: ''} def:{{{node truediv_234}} = RealDiv[T=DT_FLOAT, _has_manual_control_dependencies=true](mul_239, Cast_234)}}' was changed by setting attribute after it was run by a session. This mutation will have no effect, and will trigger an error in the future. Either don't modify nodes after running them or create a new session.\n",
      "2023-11-18 13:09:27.867841: W tensorflow/c/c_api.cc:304] Operation '{name:'truediv_235' id:22350 op device:{requested: '', assigned: ''} def:{{{node truediv_235}} = RealDiv[T=DT_FLOAT, _has_manual_control_dependencies=true](mul_240, Cast_235)}}' was changed by setting attribute after it was run by a session. This mutation will have no effect, and will trigger an error in the future. Either don't modify nodes after running them or create a new session.\n",
      "2023-11-18 13:09:28.046673: W tensorflow/c/c_api.cc:304] Operation '{name:'truediv_236' id:22358 op device:{requested: '', assigned: ''} def:{{{node truediv_236}} = RealDiv[T=DT_FLOAT, _has_manual_control_dependencies=true](mul_241, Cast_236)}}' was changed by setting attribute after it was run by a session. This mutation will have no effect, and will trigger an error in the future. Either don't modify nodes after running them or create a new session.\n",
      "2023-11-18 13:09:28.216501: W tensorflow/c/c_api.cc:304] Operation '{name:'truediv_237' id:22366 op device:{requested: '', assigned: ''} def:{{{node truediv_237}} = RealDiv[T=DT_FLOAT, _has_manual_control_dependencies=true](mul_242, Cast_237)}}' was changed by setting attribute after it was run by a session. This mutation will have no effect, and will trigger an error in the future. Either don't modify nodes after running them or create a new session.\n"
     ]
    },
    {
     "name": "stderr",
     "output_type": "stream",
     "text": [
      "2023-11-18 13:09:28.389060: W tensorflow/c/c_api.cc:304] Operation '{name:'truediv_238' id:22374 op device:{requested: '', assigned: ''} def:{{{node truediv_238}} = RealDiv[T=DT_FLOAT, _has_manual_control_dependencies=true](mul_243, Cast_238)}}' was changed by setting attribute after it was run by a session. This mutation will have no effect, and will trigger an error in the future. Either don't modify nodes after running them or create a new session.\n",
      "2023-11-18 13:09:28.558910: W tensorflow/c/c_api.cc:304] Operation '{name:'truediv_239' id:22382 op device:{requested: '', assigned: ''} def:{{{node truediv_239}} = RealDiv[T=DT_FLOAT, _has_manual_control_dependencies=true](mul_244, Cast_239)}}' was changed by setting attribute after it was run by a session. This mutation will have no effect, and will trigger an error in the future. Either don't modify nodes after running them or create a new session.\n",
      "2023-11-18 13:09:28.722779: W tensorflow/c/c_api.cc:304] Operation '{name:'truediv_240' id:22390 op device:{requested: '', assigned: ''} def:{{{node truediv_240}} = RealDiv[T=DT_FLOAT, _has_manual_control_dependencies=true](mul_245, Cast_240)}}' was changed by setting attribute after it was run by a session. This mutation will have no effect, and will trigger an error in the future. Either don't modify nodes after running them or create a new session.\n",
      "2023-11-18 13:09:28.895753: W tensorflow/c/c_api.cc:304] Operation '{name:'truediv_241' id:22398 op device:{requested: '', assigned: ''} def:{{{node truediv_241}} = RealDiv[T=DT_FLOAT, _has_manual_control_dependencies=true](mul_246, Cast_241)}}' was changed by setting attribute after it was run by a session. This mutation will have no effect, and will trigger an error in the future. Either don't modify nodes after running them or create a new session.\n",
      "2023-11-18 13:09:29.091686: W tensorflow/c/c_api.cc:304] Operation '{name:'truediv_242' id:22406 op device:{requested: '', assigned: ''} def:{{{node truediv_242}} = RealDiv[T=DT_FLOAT, _has_manual_control_dependencies=true](mul_247, Cast_242)}}' was changed by setting attribute after it was run by a session. This mutation will have no effect, and will trigger an error in the future. Either don't modify nodes after running them or create a new session.\n",
      "2023-11-18 13:09:29.261235: W tensorflow/c/c_api.cc:304] Operation '{name:'truediv_243' id:22414 op device:{requested: '', assigned: ''} def:{{{node truediv_243}} = RealDiv[T=DT_FLOAT, _has_manual_control_dependencies=true](mul_248, Cast_243)}}' was changed by setting attribute after it was run by a session. This mutation will have no effect, and will trigger an error in the future. Either don't modify nodes after running them or create a new session.\n",
      "2023-11-18 13:09:29.426232: W tensorflow/c/c_api.cc:304] Operation '{name:'truediv_244' id:22422 op device:{requested: '', assigned: ''} def:{{{node truediv_244}} = RealDiv[T=DT_FLOAT, _has_manual_control_dependencies=true](mul_249, Cast_244)}}' was changed by setting attribute after it was run by a session. This mutation will have no effect, and will trigger an error in the future. Either don't modify nodes after running them or create a new session.\n",
      "2023-11-18 13:09:29.586265: W tensorflow/c/c_api.cc:304] Operation '{name:'truediv_245' id:22430 op device:{requested: '', assigned: ''} def:{{{node truediv_245}} = RealDiv[T=DT_FLOAT, _has_manual_control_dependencies=true](mul_250, Cast_245)}}' was changed by setting attribute after it was run by a session. This mutation will have no effect, and will trigger an error in the future. Either don't modify nodes after running them or create a new session.\n",
      "2023-11-18 13:09:29.749881: W tensorflow/c/c_api.cc:304] Operation '{name:'truediv_246' id:22438 op device:{requested: '', assigned: ''} def:{{{node truediv_246}} = RealDiv[T=DT_FLOAT, _has_manual_control_dependencies=true](mul_251, Cast_246)}}' was changed by setting attribute after it was run by a session. This mutation will have no effect, and will trigger an error in the future. Either don't modify nodes after running them or create a new session.\n",
      "2023-11-18 13:09:29.915445: W tensorflow/c/c_api.cc:304] Operation '{name:'truediv_247' id:22446 op device:{requested: '', assigned: ''} def:{{{node truediv_247}} = RealDiv[T=DT_FLOAT, _has_manual_control_dependencies=true](mul_252, Cast_247)}}' was changed by setting attribute after it was run by a session. This mutation will have no effect, and will trigger an error in the future. Either don't modify nodes after running them or create a new session.\n",
      "2023-11-18 13:09:30.095494: W tensorflow/c/c_api.cc:304] Operation '{name:'truediv_248' id:22454 op device:{requested: '', assigned: ''} def:{{{node truediv_248}} = RealDiv[T=DT_FLOAT, _has_manual_control_dependencies=true](mul_253, Cast_248)}}' was changed by setting attribute after it was run by a session. This mutation will have no effect, and will trigger an error in the future. Either don't modify nodes after running them or create a new session.\n",
      "2023-11-18 13:09:30.255433: W tensorflow/c/c_api.cc:304] Operation '{name:'truediv_249' id:22462 op device:{requested: '', assigned: ''} def:{{{node truediv_249}} = RealDiv[T=DT_FLOAT, _has_manual_control_dependencies=true](mul_254, Cast_249)}}' was changed by setting attribute after it was run by a session. This mutation will have no effect, and will trigger an error in the future. Either don't modify nodes after running them or create a new session.\n",
      "2023-11-18 13:09:30.447786: W tensorflow/c/c_api.cc:304] Operation '{name:'truediv_250' id:22470 op device:{requested: '', assigned: ''} def:{{{node truediv_250}} = RealDiv[T=DT_FLOAT, _has_manual_control_dependencies=true](mul_255, Cast_250)}}' was changed by setting attribute after it was run by a session. This mutation will have no effect, and will trigger an error in the future. Either don't modify nodes after running them or create a new session.\n",
      "2023-11-18 13:09:30.855164: W tensorflow/c/c_api.cc:304] Operation '{name:'range_5' id:22728 op device:{requested: '', assigned: ''} def:{{{node range_5}} = Range[Tidx=DT_INT32, _has_manual_control_dependencies=true](range_5/start, Rank_5, range_5/delta)}}' was changed by setting attribute after it was run by a session. This mutation will have no effect, and will trigger an error in the future. Either don't modify nodes after running them or create a new session.\n",
      "2023-11-18 13:09:31.221016: W tensorflow/c/c_api.cc:304] Operation '{name:'add_metric/total/Assign' id:22737 op device:{requested: '', assigned: ''} def:{{{node add_metric/total/Assign}} = AssignVariableOp[_has_manual_control_dependencies=true, dtype=DT_FLOAT, validate_shape=false](add_metric/total, add_metric/total/Initializer/zeros)}}' was changed by setting attribute after it was run by a session. This mutation will have no effect, and will trigger an error in the future. Either don't modify nodes after running them or create a new session.\n",
      "2023-11-18 13:09:31.437538: W tensorflow/c/c_api.cc:304] Operation '{name:'range_6' id:22763 op device:{requested: '', assigned: ''} def:{{{node range_6}} = Range[Tidx=DT_INT32, _has_manual_control_dependencies=true](range_6/start, Rank_6, range_6/delta)}}' was changed by setting attribute after it was run by a session. This mutation will have no effect, and will trigger an error in the future. Either don't modify nodes after running them or create a new session.\n",
      "2023-11-18 13:09:31.793744: W tensorflow/c/c_api.cc:304] Operation '{name:'add_metric_1/total/Assign' id:22775 op device:{requested: '', assigned: ''} def:{{{node add_metric_1/total/Assign}} = AssignVariableOp[_has_manual_control_dependencies=true, dtype=DT_FLOAT, validate_shape=false](add_metric_1/total, add_metric_1/total/Initializer/zeros)}}' was changed by setting attribute after it was run by a session. This mutation will have no effect, and will trigger an error in the future. Either don't modify nodes after running them or create a new session.\n",
      "2023-11-18 13:09:32.003253: W tensorflow/c/c_api.cc:304] Operation '{name:'range_7' id:22801 op device:{requested: '', assigned: ''} def:{{{node range_7}} = Range[Tidx=DT_INT32, _has_manual_control_dependencies=true](range_7/start, Rank_7, range_7/delta)}}' was changed by setting attribute after it was run by a session. This mutation will have no effect, and will trigger an error in the future. Either don't modify nodes after running them or create a new session.\n"
     ]
    },
    {
     "name": "stderr",
     "output_type": "stream",
     "text": [
      "2023-11-18 13:09:32.365821: W tensorflow/c/c_api.cc:304] Operation '{name:'add_metric_2/total/Assign' id:22813 op device:{requested: '', assigned: ''} def:{{{node add_metric_2/total/Assign}} = AssignVariableOp[_has_manual_control_dependencies=true, dtype=DT_FLOAT, validate_shape=false](add_metric_2/total, add_metric_2/total/Initializer/zeros)}}' was changed by setting attribute after it was run by a session. This mutation will have no effect, and will trigger an error in the future. Either don't modify nodes after running them or create a new session.\n",
      "2023-11-18 13:09:32.573189: W tensorflow/c/c_api.cc:304] Operation '{name:'range_8' id:22839 op device:{requested: '', assigned: ''} def:{{{node range_8}} = Range[Tidx=DT_INT32, _has_manual_control_dependencies=true](range_8/start, Rank_8, range_8/delta)}}' was changed by setting attribute after it was run by a session. This mutation will have no effect, and will trigger an error in the future. Either don't modify nodes after running them or create a new session.\n",
      "2023-11-18 13:09:32.921399: W tensorflow/c/c_api.cc:304] Operation '{name:'add_metric_3/total/Assign' id:22851 op device:{requested: '', assigned: ''} def:{{{node add_metric_3/total/Assign}} = AssignVariableOp[_has_manual_control_dependencies=true, dtype=DT_FLOAT, validate_shape=false](add_metric_3/total, add_metric_3/total/Initializer/zeros)}}' was changed by setting attribute after it was run by a session. This mutation will have no effect, and will trigger an error in the future. Either don't modify nodes after running them or create a new session.\n",
      "2023-11-18 13:09:33.134722: W tensorflow/c/c_api.cc:304] Operation '{name:'range_9' id:22877 op device:{requested: '', assigned: ''} def:{{{node range_9}} = Range[Tidx=DT_INT32, _has_manual_control_dependencies=true](range_9/start, Rank_9, range_9/delta)}}' was changed by setting attribute after it was run by a session. This mutation will have no effect, and will trigger an error in the future. Either don't modify nodes after running them or create a new session.\n"
     ]
    },
    {
     "name": "stdout",
     "output_type": "stream",
     "text": [
      "Training ...\n"
     ]
    },
    {
     "name": "stderr",
     "output_type": "stream",
     "text": [
      "2023-11-18 13:09:34.049408: W tensorflow/c/c_api.cc:304] Operation '{name:'add_metric_4/count/Assign' id:22894 op device:{requested: '', assigned: ''} def:{{{node add_metric_4/count/Assign}} = AssignVariableOp[_has_manual_control_dependencies=true, dtype=DT_FLOAT, validate_shape=false](add_metric_4/count, add_metric_4/count/Initializer/zeros)}}' was changed by setting attribute after it was run by a session. This mutation will have no effect, and will trigger an error in the future. Either don't modify nodes after running them or create a new session.\n"
     ]
    },
    {
     "name": "stdout",
     "output_type": "stream",
     "text": [
      "Epoch 1/2\n"
     ]
    },
    {
     "name": "stderr",
     "output_type": "stream",
     "text": [
      "Traceback (most recent call last):\n",
      "  File \"<string>\", line 1, in <module>\n",
      "  File \"/Users/fatimanevrekar/anaconda3/envs/fan7402venv/lib/python3.8/multiprocessing/spawn.py\", line 116, in spawn_main\n",
      "    exitcode = _main(fd, parent_sentinel)\n",
      "  File \"/Users/fatimanevrekar/anaconda3/envs/fan7402venv/lib/python3.8/multiprocessing/spawn.py\", line 126, in _main\n",
      "    self = reduction.pickle.load(from_parent)\n",
      "AttributeError: Can't get attribute 'CustomConfig' on <module '__main__' (built-in)>\n"
     ]
    }
   ],
   "source": [
    "# Train the model\n",
    "# Note: You might want to adjust the learning rate and epochs based on your dataset\n",
    "model.train(dataset_train, dataset_val,\n",
    "            learning_rate=config.LEARNING_RATE,\n",
    "            epochs=2,\n",
    "            layers='all')"
   ]
  },
  {
   "cell_type": "markdown",
   "metadata": {
    "id": "G-KinxJoDun7"
   },
   "source": [
    "## **Training Model**"
   ]
  },
  {
   "cell_type": "code",
   "execution_count": null,
   "metadata": {},
   "outputs": [],
   "source": []
  },
  {
   "cell_type": "code",
   "execution_count": null,
   "metadata": {},
   "outputs": [],
   "source": []
  },
  {
   "cell_type": "code",
   "execution_count": null,
   "metadata": {},
   "outputs": [],
   "source": [
    "config = CustomConfig()\n",
    "model = modellib.MaskRCNN(mode=\"training\", config=config, model_dir=DEFAULT_LOGS_DIR)\n",
    "\n",
    "# Load COCO weights or load the last model you trained\n",
    "# Skip the loading of certain layers due to different number of classes\n",
    "# Here we are excluding the layers that are different between the COCO dataset and your new dataset\n",
    "model.load_weights(COCO_WEIGHTS_PATH, by_name=True, exclude=[\n",
    "    \"mrcnn_class_logits\", \"mrcnn_bbox_fc\", \n",
    "    \"mrcnn_bbox\", \"mrcnn_mask\"])\n",
    "\n",
    "# Training dataset\n",
    "dataset_train = CustomDataset()\n",
    "dataset_train.load_custom(DATASET_DIR, \"train\")\n",
    "dataset_train.prepare()\n",
    "\n",
    "# Validation dataset\n",
    "dataset_val = CustomDataset()\n",
    "dataset_val.load_custom(DATASET_DIR, \"val\")\n",
    "dataset_val.prepare()\n",
    "\n",
    "# Train the model\n",
    "model.train(dataset_train, dataset_val,\n",
    "            learning_rate=config.LEARNING_RATE,\n",
    "            epochs=2,\n",
    "            layers='all')\n"
   ]
  },
  {
   "cell_type": "code",
   "execution_count": null,
   "metadata": {},
   "outputs": [],
   "source": [
    "config = CustomConfig()\n",
    "model = modellib.MaskRCNN(mode=\"training\", config=config, model_dir=DEFAULT_LOGS_DIR)\n",
    "\n",
    "model.load_weights(COCO_WEIGHTS_PATH, by_name=True, exclude=[\n",
    "            \"mrcnn_class_logits\", \"mrcnn_bbox_fc\",\n",
    "            \"mrcnn_bbox\", \"mrcnn_mask\"])\n",
    "\n",
    "# Training dataset.\n",
    "dataset_train = CustomDataset()\n",
    "\n",
    "dataset_train.load_custom(DATASET_DIR,\"train\")\n",
    "dataset_train.prepare()\n",
    "\n",
    "# Validation dataset\n",
    "dataset_val = CustomDataset()\n",
    "dataset_val.load_custom(DATASET_DIR, \"val\")\n",
    "dataset_val.prepare()\n",
    "clear_output()"
   ]
  },
  {
   "cell_type": "code",
   "execution_count": null,
   "metadata": {},
   "outputs": [],
   "source": [
    "%%time\n",
    "model.train(dataset_train, dataset_val,\n",
    "            learning_rate=config.LEARNING_RATE,\n",
    "            epochs=2,\n",
    "            layers='all')"
   ]
  },
  {
   "cell_type": "code",
   "execution_count": null,
   "metadata": {},
   "outputs": [],
   "source": [
    "import time\n",
    "\n",
    "start_time = time.time()\n",
    "\n",
    "model.train(dataset_train, dataset_val,\n",
    "            learning_rate=config.LEARNING_RATE,\n",
    "            epochs=5,\n",
    "            layers='all')\n",
    "\n",
    "end_time = time.time()\n",
    "print(\"Training took {:.2f} seconds\".format(end_time - start_time))\n"
   ]
  },
  {
   "cell_type": "code",
   "execution_count": null,
   "metadata": {},
   "outputs": [],
   "source": [
    "%%time\n",
    "model.train(dataset_train, dataset_val,\n",
    "            learning_rate=config.LEARNING_RATE,\n",
    "            epochs=10,\n",
    "            layers='all')"
   ]
  },
  {
   "cell_type": "code",
   "execution_count": null,
   "metadata": {},
   "outputs": [],
   "source": [
    "%%time\n",
    "model.train(dataset_train, dataset_val,\n",
    "            learning_rate=config.LEARNING_RATE,\n",
    "            epochs=15,\n",
    "            layers='all')"
   ]
  },
  {
   "cell_type": "code",
   "execution_count": null,
   "metadata": {},
   "outputs": [],
   "source": [
    "%%time\n",
    "model.train(dataset_train, dataset_val,\n",
    "            learning_rate=config.LEARNING_RATE,\n",
    "            epochs=20,\n",
    "            layers='all')"
   ]
  },
  {
   "cell_type": "code",
   "execution_count": null,
   "metadata": {},
   "outputs": [],
   "source": [
    "%%time\n",
    "model.train(dataset_train, dataset_val,\n",
    "            learning_rate=config.LEARNING_RATE,\n",
    "            epochs=25,\n",
    "            layers='all')"
   ]
  },
  {
   "cell_type": "code",
   "execution_count": null,
   "metadata": {},
   "outputs": [],
   "source": [
    "%load_ext tensorboard\n",
    "%tensorboard --logdir logs"
   ]
  },
  {
   "cell_type": "code",
   "execution_count": null,
   "metadata": {},
   "outputs": [],
   "source": []
  },
  {
   "cell_type": "markdown",
   "metadata": {
    "id": "0LqeU2zqEd0d"
   },
   "source": [
    "## **Testing Model**"
   ]
  },
  {
   "cell_type": "code",
   "execution_count": null,
   "metadata": {
    "id": "8vurmbwzG2BR"
   },
   "outputs": [],
   "source": [
    "import os\n",
    "import sys\n",
    "import json\n",
    "import datetime\n",
    "import numpy as np\n",
    "import skimage.draw\n",
    "import matplotlib.pyplot as plt\n",
    "import matplotlib.image as mpimg\n",
    "\n",
    "from mrcnn import visualize\n",
    "from mrcnn.model import log\n",
    "from mrcnn.config import Config\n",
    "from mrcnn import model as modellib, utils\n",
    "from IPython.display import clear_output "
   ]
  },
  {
   "cell_type": "code",
   "execution_count": null,
   "metadata": {},
   "outputs": [],
   "source": [
    "from numpy import expand_dims\n",
    "from numpy import mean\n",
    "from mrcnn.utils import compute_ap, compute_recall\n",
    "from mrcnn.model import load_image_gt\n",
    "from mrcnn.model import mold_image"
   ]
  },
  {
   "cell_type": "code",
   "execution_count": null,
   "metadata": {
    "id": "N0WqVo5yY1OM"
   },
   "outputs": [],
   "source": [
    "ROOT_DIR = os.getcwd()\n",
    "\n",
    "MODEL_DIR = os.path.join(ROOT_DIR, \"logs\")\n",
    "\n",
    "CUSTOM_DIR = os.path.join(ROOT_DIR, \"Dataset\")"
   ]
  },
  {
   "cell_type": "code",
   "execution_count": null,
   "metadata": {},
   "outputs": [],
   "source": [
    "class CustomConfig(Config):\n",
    "    NAME = \"object\"\n",
    "\n",
    "    # Processing no of images based on GPU configuration\n",
    "    IMAGES_PER_GPU = 1\n",
    "\n",
    "    # Number of classes (including background)\n",
    "    NUM_CLASSES = 1 + 6\n",
    "    \n",
    "    USE_MINI_MASK = False\n",
    "    \n",
    "    MASK_SHAPE = [56, 56]"
   ]
  },
  {
   "cell_type": "code",
   "execution_count": null,
   "metadata": {
    "id": "2njnvt1ocWgi"
   },
   "outputs": [],
   "source": [
    "class CustomDataset(utils.Dataset):\n",
    "\n",
    "    def load_custom(self, dataset_dir, subset):\n",
    "\n",
    "        # Adding classes\n",
    "        self.add_class(\"object\", 1, \"Potato_Early_Blight\")\n",
    "        self.add_class(\"object\", 2, \"Potato_Healthy\")\n",
    "        self.add_class(\"object\", 3, \"Potato_Late_Blight\")\n",
    "        self.add_class(\"object\", 4, \"Tomato_Healthy\")\n",
    "        self.add_class(\"object\", 5, \"Tomato_Leaf_Mold\")\n",
    "        self.add_class(\"object\", 6, \"Tomato_Leaf_Spot\")\n",
    "\n",
    "        # Setting up dataset path\n",
    "        assert subset in [\"train\", \"val\"]\n",
    "        dataset_dir = os.path.join(dataset_dir, subset)\n",
    "\n",
    "        # Loading JSON file\n",
    "        annotations1 = json.load(open(os.path.join(dataset_dir, 'annotations.json')))\n",
    "        annotations = list(annotations1.values())\n",
    "\n",
    "        # Getting images with annotations\n",
    "        annotations = [a for a in annotations if a['regions']]\n",
    "\n",
    "        # Getting x and y coordinates of polygon (regions)\n",
    "        for a in annotations:\n",
    "            polygons = [r['shape_attributes'] for r in a['regions']]\n",
    "            objects = [s['region_attributes']['names'] for s in a['regions']]\n",
    "            print(\"objects:\",objects)\n",
    "            name_dict = {\"Potato_Early_Blight\": 1,\"Potato_Healthy\": 2,\"Potato_Late_Blight\": 3,\n",
    "                         \"Tomato_Healthy\": 4,\"Tomato_Leaf_Mold\": 5,\"Tomato_Leaf_Spot\": 6}\n",
    "\n",
    "            num_ids = [name_dict[a] for a in objects]\n",
    "\n",
    "            print(\"numids\",num_ids)\n",
    "            image_path = os.path.join(dataset_dir, a['filename'])\n",
    "            image = skimage.io.imread(image_path)\n",
    "            height, width = image.shape[:2]\n",
    "\n",
    "            self.add_image(\n",
    "                \"object\",\n",
    "                image_id=a['filename'],\n",
    "                path=image_path,\n",
    "                width=width, height=height,\n",
    "                polygons=polygons,\n",
    "                num_ids=num_ids\n",
    "                )\n",
    "\n",
    "    # Generating instance masks for an image\n",
    "    def load_mask(self, image_id):\n",
    "\n",
    "        image_info = self.image_info[image_id]\n",
    "        if image_info[\"source\"] != \"object\":\n",
    "            return super(self.__class__, self).load_mask(image_id)\n",
    "\n",
    "        # Convert polygons to a bitmap mask of shape\n",
    "        # [height, width, instance_count]\n",
    "        info = self.image_info[image_id]\n",
    "        if info[\"source\"] != \"object\":\n",
    "            return super(self.__class__, self).load_mask(image_id)\n",
    "        num_ids = info['num_ids']\n",
    "        mask = np.zeros([info[\"height\"], info[\"width\"], len(info[\"polygons\"])],\n",
    "                        dtype=np.uint8)\n",
    "        for i, p in enumerate(info[\"polygons\"]):\n",
    "            # Getting indexes of pixels inside the polygon and set them to 1\n",
    "        \trr, cc = skimage.draw.polygon(p['all_points_y'], p['all_points_x'])\n",
    "\n",
    "        \tmask[rr, cc, i] = 1\n",
    "\n",
    "        # Return mask, and array of class IDs of each instance. Map class names to class IDs.\n",
    "        num_ids = np.array(num_ids, dtype=np.int32)\n",
    "        return mask, num_ids\n",
    "\n",
    "    def image_reference(self, image_id):\n",
    "        \"\"\"Return the path of the image.\"\"\"\n",
    "        info = self.image_info[image_id]\n",
    "        if info[\"source\"] == \"object\":\n",
    "            return info[\"path\"]\n",
    "        else:\n",
    "            super(self.__class__, self).image_reference(image_id)"
   ]
  },
  {
   "cell_type": "code",
   "execution_count": null,
   "metadata": {
    "colab": {
     "base_uri": "https://localhost:8080/"
    },
    "id": "WJzgOIDlZWWx",
    "outputId": "dda7749d-12a8-494d-d432-6d95b3aa4038"
   },
   "outputs": [],
   "source": [
    "dataset = CustomDataset()\n",
    "dataset.load_custom(CUSTOM_DIR, \"val\")\n",
    "dataset.prepare()\n",
    "clear_output()"
   ]
  },
  {
   "cell_type": "code",
   "execution_count": null,
   "metadata": {
    "colab": {
     "base_uri": "https://localhost:8080/"
    },
    "id": "WB3u4gNtbTd3",
    "outputId": "17140875-f8c8-4ef9-ed6c-e2669e5c41d8"
   },
   "outputs": [],
   "source": [
    "# Loading model\n",
    "config = CustomConfig()\n",
    "model_ = modellib.MaskRCNN(mode=\"inference\", model_dir=MODEL_DIR, config=config)\n",
    "\n",
    "weights_path = os.path.join(MODEL_DIR, \"object20230110T1509/mask_rcnn_object_0025.h5\")\n",
    "model_.load_weights(weights_path, by_name=True)\n",
    "clear_output()"
   ]
  },
  {
   "cell_type": "code",
   "execution_count": null,
   "metadata": {
    "id": "R_n6DCKFd4We"
   },
   "outputs": [],
   "source": [
    "def get_ax(rows=1, cols=1, size=12):\n",
    "  _, ax = plt.subplots(rows, cols, figsize=(size*cols, size*rows))\n",
    "  return ax"
   ]
  },
  {
   "cell_type": "code",
   "execution_count": null,
   "metadata": {
    "id": "Mu0E-wxSeJbH"
   },
   "outputs": [],
   "source": [
    "# Display results\n",
    "def detect_hlth(pth):\n",
    "    image1 = mpimg.imread(pth)\n",
    "    results1 = model_.detect([image1], verbose=1)\n",
    "    ax = get_ax(1)\n",
    "    r1 = results1[0]\n",
    "    lbl_list=[\"Potato_Early_Blight\",\"Potato_Healthy\",\"Potato_Late_Blight\",\"Tomato_Healthy\",\"Tomato_Leaf_Mold\",\n",
    "              \"Tomato_Leaf_Spot\",\"Detection Error: Unable to detect, Try again with valid image\",\"\"]\n",
    "    \n",
    "    empty_list=[\"\",\"\",\"\",\"\",\"\",\"\",\"\"]\n",
    "    try:\n",
    "        cls_value=r1['class_ids'][0]\n",
    "    except IndexError:\n",
    "        cls_value=7\n",
    "\n",
    "    if cls_value==1:\n",
    "        c1=lbl_list[0]\n",
    "        c2,c3,c4,c5,c6,err=lbl_list[7],lbl_list[7],lbl_list[7],lbl_list[7],lbl_list[7],lbl_list[7]\n",
    "    elif cls_value==2:\n",
    "        c2=lbl_list[1]\n",
    "        c1,c3,c4,c5,c6,err=lbl_list[7],lbl_list[7],lbl_list[7],lbl_list[7],lbl_list[7],lbl_list[7]\n",
    "    elif cls_value==3:\n",
    "        c3=lbl_list[2]\n",
    "        c1,c2,c4,c5,c6,err=lbl_list[7],lbl_list[7],lbl_list[7],lbl_list[7],lbl_list[7],lbl_list[7]\n",
    "    elif cls_value==4:\n",
    "        c4=lbl_list[3]\n",
    "        c1,c2,c3,c5,c6,err=lbl_list[7],lbl_list[7],lbl_list[7],lbl_list[7],lbl_list[7],lbl_list[7]\n",
    "    elif cls_value==5:\n",
    "        c5=lbl_list[4]\n",
    "        c1,c2,c3,c4,c6,err=lbl_list[7],lbl_list[7],lbl_list[7],lbl_list[7],lbl_list[7],lbl_list[7]\n",
    "    elif cls_value==6:\n",
    "        c6=lbl_list[5]\n",
    "        c1,c2,c3,c4,c5,err=lbl_list[7],lbl_list[7],lbl_list[7],lbl_list[7],lbl_list[7],lbl_list[7]\n",
    "    else:\n",
    "        err=lbl_list[6]\n",
    "        c1,c2,c3,c4,c5,c6=lbl_list[7],lbl_list[7],lbl_list[7],lbl_list[7],lbl_list[7],lbl_list[7]\n",
    "    \n",
    "    visualize.display_instances(image1, r1['rois'], r1['masks'], r1['class_ids'],empty_list,r1['scores'], \n",
    "                                ax=ax,title=c1 or c2 or c3 or c4 or c5 or c6  or err)"
   ]
  },
  {
   "cell_type": "code",
   "execution_count": null,
   "metadata": {
    "colab": {
     "base_uri": "https://localhost:8080/",
     "height": 873
    },
    "id": "zOMGjUkiauvh",
    "outputId": "8a168c7e-1a8a-4d5d-c521-ab9962ec17af"
   },
   "outputs": [],
   "source": [
    "pth = input(\"Enter potato or tomato leaf image:\")\n",
    "pth2 = pth.replace('\"','')\n",
    "detect_hlth(pth2)"
   ]
  },
  {
   "cell_type": "markdown",
   "metadata": {
    "id": "0LqeU2zqEd0d"
   },
   "source": [
    "## **Evaluation**"
   ]
  },
  {
   "cell_type": "code",
   "execution_count": null,
   "metadata": {},
   "outputs": [],
   "source": [
    "# Evaluation\n",
    "APs = list()\n",
    "ARs = list()\n",
    "for image_id in dataset.image_ids:\n",
    "    image, image_meta, gt_class_id, gt_bbox, gt_mask = load_image_gt(dataset, config, image_id, use_mini_mask=False)\n",
    "    scaled_image = mold_image(image, config)\n",
    "    sample = expand_dims(scaled_image, 0)\n",
    "    yhat = model_.detect(sample, verbose=0)\n",
    "    r = yhat[0]\n",
    "    AP, precisions, recalls, overlaps = compute_ap(gt_bbox, gt_class_id, gt_mask, \n",
    "                                                   r[\"rois\"], r[\"class_ids\"], r[\"scores\"], r['masks'])\n",
    "    APs.append(AP)\n",
    "    AR, positive_ids = compute_recall(r[\"rois\"], gt_bbox)\n",
    "    ARs.append(AR)\n",
    "    \n",
    "mAP = mean(APs)\n",
    "mAR = mean(ARs)"
   ]
  },
  {
   "cell_type": "code",
   "execution_count": null,
   "metadata": {},
   "outputs": [],
   "source": [
    "print(\"Accuracy (mAP):\",round(mAP,3))"
   ]
  },
  {
   "cell_type": "code",
   "execution_count": null,
   "metadata": {},
   "outputs": [],
   "source": [
    "#F1-Score\n",
    "F1_score_= (2 * mAP * mAR)/(mAP + mAR)\n",
    "print(\"F1 Score:\",round(F1_score,3))"
   ]
  }
 ],
 "metadata": {
  "colab": {
   "collapsed_sections": [
    "9fqGAngzB6sj",
    "fkKcajnUGIim"
   ],
   "provenance": []
  },
  "gpuClass": "standard",
  "kernelspec": {
   "display_name": "Python 3 (ipykernel)",
   "language": "python",
   "name": "python3"
  },
  "language_info": {
   "codemirror_mode": {
    "name": "ipython",
    "version": 3
   },
   "file_extension": ".py",
   "mimetype": "text/x-python",
   "name": "python",
   "nbconvert_exporter": "python",
   "pygments_lexer": "ipython3",
   "version": "3.8.11"
  }
 },
 "nbformat": 4,
 "nbformat_minor": 1
}
